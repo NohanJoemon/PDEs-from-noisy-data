{
 "cells": [
  {
   "cell_type": "code",
   "execution_count": 14,
   "metadata": {},
   "outputs": [],
   "source": [
    "from GKFL0 import *\n",
    "data_path = \"./burgers\""
   ]
  },
  {
   "cell_type": "markdown",
   "metadata": {},
   "source": [
    "# Does linear regression work? Yes!"
   ]
  },
  {
   "cell_type": "code",
   "execution_count": 15,
   "metadata": {},
   "outputs": [],
   "source": [
    "def load_data(path):\n",
    "    \"\"\"\n",
    "    This function loads the data\n",
    "\n",
    "    Inputs:\n",
    "    path= path to the pickle file that stores the data in the form of a python dictionary\n",
    "\n",
    "    Outputs:\n",
    "    u,x,t,dx,dt\n",
    "\n",
    "    \"\"\"\n",
    "    file_to_read = open(path, \"rb\")\n",
    "    loaded_dictionary = pickle.load(file_to_read)\n",
    "    u = loaded_dictionary[\"u\"]\n",
    "    x = loaded_dictionary[\"x\"]\n",
    "    t = loaded_dictionary[\"t\"]\n",
    "    dx = x[2]-x[1]\n",
    "    dt = t[2]-t[1]\n",
    "\n",
    "    return u,x,t"
   ]
  },
  {
   "cell_type": "code",
   "execution_count": 16,
   "metadata": {},
   "outputs": [],
   "source": [
    "# ========================== Smoothing ===========================\n",
    "    \n",
    "def smooth(u,x,t,sigma=6):\n",
    "    \"\"\"\n",
    "    This function smooths the u matrix while keeping x and t the same.\n",
    "\n",
    "    Inputs:\n",
    "    u: The u matrix that is to be smoothed\n",
    "    x: x values\n",
    "    t: t values\n",
    "    n: number of times initial gaussian filter is to be applied\n",
    "    sigma: sigma value to be used in the initial gaussian filter\n",
    "    m: number of times we need to perform KNN_Gaussian\n",
    "    sigma_k: sigma_k[i][0] refers to the sigma value in the first gaussian filter of KNN_Gaussian for ith execution of KNN_Gaussian\n",
    "             sigma_k[i][1] refers to the num of neighbours in the KNN regression of KNN_Gaussian for ith execution of KNN_Gaussian\n",
    "             sigma_k[i][2] refers to the \n",
    "             sigma value in the second gaussian filter of KNN_Gaussian for ith execution of KNN_Gaussian\n",
    "\n",
    "    Output: \n",
    "    The smoothed u matrix\n",
    "    \"\"\"\n",
    "    u_cap=gaussian_filter(u,sigma=sigma)\n",
    "    print(u_cap.shape)\n",
    "    return u_cap"
   ]
  },
  {
   "cell_type": "code",
   "execution_count": 17,
   "metadata": {},
   "outputs": [],
   "source": [
    "# =============== Finding derivatives ============================\n",
    "\n",
    "def derivatives(u,x,t,deg=3,width=9):\n",
    "    \"\"\"\n",
    "\n",
    "    Finds the derivatives of u numerically using polynomial interpolation\n",
    "\n",
    "    Inputs:\n",
    "    u=u matrix\n",
    "    x=x values\n",
    "    t=t values\n",
    "    deg=degree of the polynomial in polynomial interpolation\n",
    "    width=no of points that are considered for interpolation (should be odd)\n",
    "\n",
    "    Outputs:\n",
    "    u = u matrix without the boundary points\n",
    "    ut = time derivative of u\n",
    "    ux = space derivative of u\n",
    "    uxx = 2nd space derivative of u\n",
    "\n",
    "    \"\"\"\n",
    "    if width%2==0:\n",
    "        return \"Error: Width to be used in polynomial interpolation should be odd so that we split the left and right points evenly\"\n",
    "\n",
    "    t_leni,x_leni = u.shape\n",
    "    t_len=t_leni-(width)+1 # t_len and x_len decreases because we neglect the terms at the end\n",
    "    x_len=x_leni-(width)+1 \n",
    "\n",
    "    ut = np.zeros((t_len,x_len))\n",
    "    ux = np.zeros((t_len,x_len))\n",
    "    uxx = np.zeros((t_len,x_len))\n",
    "    uxxx = np.zeros((t_len,x_len))\n",
    "    w=width//2  # number of points taken on each side\n",
    "    for i in range(x_len):\n",
    "        ut[:,i] = interpolate(u[:,i+w], t, diff=1,deg=deg,width=width)[:,0]\n",
    "    for i in range(t_len):\n",
    "        der=interpolate(u[i+w,:], x, diff=3,deg=deg,width=width)\n",
    "        ux[i,:] = der[:,0]\n",
    "        uxx[i,:] = der[:,1]\n",
    "        uxxx[i,:] = der[:,2]\n",
    "    u=u[w:t_leni-w,w:x_leni-w]\n",
    "\n",
    "    ut = np.reshape(ut, ((t_len)*(x_len),1), order='F')\n",
    "    ux = np.reshape(ux,  ((t_len)*(x_len),1), order='F')\n",
    "    uxx = np.reshape(uxx,  ((t_len)*(x_len),1), order='F')\n",
    "    uxxx = np.reshape(uxxx,  ((t_len)*(x_len),1), order='F')\n",
    "    return u,ut,ux,uxx,uxxx\n",
    "\n",
    "\n",
    "def interpolate(u,x,deg,width,diff):    \n",
    "    \"\"\"\n",
    "    u = values of a function\n",
    "    x = x-coordinates where values are known\n",
    "    deg=degree of the polynomial in polynomial interpolation\n",
    "    width=no of points that are considered for interpolation (is odd)\n",
    "    diff=max order of derivative to be calculated\n",
    "    \"\"\"\n",
    "    \n",
    "    u = u.flatten()\n",
    "    x = x.flatten()\n",
    "\n",
    "    n = len(x)\n",
    "    du = np.zeros((n - width+1,diff))\n",
    "    w=width//2\n",
    "    \n",
    "    for j in range(w, n-w):\n",
    "        points = np.arange(j - w, j + w+1)\n",
    "        # Polynomial interpolation: Least-squares fit\n",
    "        poly = np.polynomial.polynomial.Polynomial.fit(x[points],u[points],deg)\n",
    "        # Taking derivatives\n",
    "        for d in range(1,diff+1):\n",
    "            du[j-w, d-1] = poly.deriv(m=d)(x[j])\n",
    "    return du"
   ]
  },
  {
   "cell_type": "code",
   "execution_count": 5,
   "metadata": {},
   "outputs": [],
   "source": [
    "# Burgers equation ut = 0.1uxx -1 uux\n",
    "c1, x, t = load_data(data_path + '/2_0.pkl')\n",
    "c1, c1t, c1x, c1xx, c1xxx = derivatives(c1, x, t)\n",
    "c1r = np.reshape(c1, (93 * 248, 1), order='F')"
   ]
  },
  {
   "cell_type": "code",
   "execution_count": 6,
   "metadata": {},
   "outputs": [
    {
     "data": {
      "text/plain": [
       "(93, 248)"
      ]
     },
     "execution_count": 6,
     "metadata": {},
     "output_type": "execute_result"
    }
   ],
   "source": [
    "c1.shape"
   ]
  },
  {
   "cell_type": "code",
   "execution_count": 7,
   "metadata": {},
   "outputs": [
    {
     "data": {
      "text/plain": [
       "(101,)"
      ]
     },
     "execution_count": 7,
     "metadata": {},
     "output_type": "execute_result"
    }
   ],
   "source": [
    "t.shape"
   ]
  },
  {
   "cell_type": "markdown",
   "metadata": {},
   "source": [
    "# Correlations in Burgers Equation?"
   ]
  },
  {
   "cell_type": "code",
   "execution_count": 8,
   "metadata": {},
   "outputs": [],
   "source": [
    "X, y, desc = library(c1r, c1t, c1x, c1xx, c1xxx)\n",
    "y = y.reshape((len(y),)) "
   ]
  },
  {
   "cell_type": "code",
   "execution_count": 13,
   "metadata": {},
   "outputs": [
    {
     "name": "stderr",
     "output_type": "stream",
     "text": [
      "C:\\Users\\MelPr\\AppData\\Roaming\\Python\\Python38\\site-packages\\numpy\\lib\\function_base.py:2829: RuntimeWarning: invalid value encountered in true_divide\n",
      "  c /= stddev[:, None]\n",
      "C:\\Users\\MelPr\\AppData\\Roaming\\Python\\Python38\\site-packages\\numpy\\lib\\function_base.py:2830: RuntimeWarning: invalid value encountered in true_divide\n",
      "  c /= stddev[None, :]\n"
     ]
    },
    {
     "data": {
      "image/png": "[encoded data removed]",
      "text/plain": [
       "<Figure size 720x720 with 2 Axes>"
      ]
     },
     "metadata": {
      "needs_background": "light"
     },
     "output_type": "display_data"
    }
   ],
   "source": [
    "import seaborn as sns\n",
    "from sklearn.preprocessing import StandardScaler\n",
    "Xs = StandardScaler().fit_transform(X)\n",
    "corr = np.corrcoef(Xs.T)\n",
    "plt.figure(figsize=(10, 10))\n",
    "sns.heatmap(np.abs(corr), annot=True, cmap='coolwarm', xticklabels=desc, yticklabels=desc, annot_kws={\"fontsize\":11})\n",
    "plt.title(\"Correlation Heatmap of Concentrations and their Derivatives\", pad=10)\n",
    "plt.show()"
   ]
  },
  {
   "cell_type": "code",
   "execution_count": 11,
   "metadata": {},
   "outputs": [
    {
     "data": {
      "text/plain": [
       "array([268.3969591 , 235.1935685 , 132.65775256, 110.04371839,\n",
       "        47.79852018,  35.15269924,  29.44397417,   0.        ])"
      ]
     },
     "execution_count": 11,
     "metadata": {},
     "output_type": "execute_result"
    }
   ],
   "source": [
    "u, s, v = np.linalg.svd(Xs, full_matrices=False)\n",
    "s"
   ]
  },
  {
   "cell_type": "code",
   "execution_count": 12,
   "metadata": {},
   "outputs": [
    {
     "name": "stdout",
     "output_type": "stream",
     "text": [
      "1\n"
     ]
    }
   ],
   "source": [
    "print(Xs.shape[1] - np.linalg.matrix_rank(Xs))"
   ]
  },
  {
   "cell_type": "markdown",
   "metadata": {},
   "source": [
    "# Does linear regression work?"
   ]
  },
  {
   "cell_type": "code",
   "execution_count": 41,
   "metadata": {},
   "outputs": [
    {
     "name": "stdout",
     "output_type": "stream",
     "text": [
      "[[ 0.10524055 -0.99624821]] 0.0\n"
     ]
    }
   ],
   "source": [
    "from sklearn.linear_model import LinearRegression\n",
    "\n",
    "Xlr = np.hstack([c1xx, np.multiply(c1r, c1x)])\n",
    "y = c1t\n",
    "model = LinearRegression(fit_intercept=False).fit(Xlr, y)\n",
    "print(model.coef_, model.intercept_) "
   ]
  },
  {
   "cell_type": "code",
   "execution_count": 68,
   "metadata": {},
   "outputs": [
    {
     "name": "stdout",
     "output_type": "stream",
     "text": [
      "[[ 0.10524055 -0.99624821]] [4.5713538e-08]\n",
      "0.9992963206514137 592.0971249596953\n"
     ]
    }
   ],
   "source": [
    "from sklearn.linear_model import LinearRegression\n",
    "from sklearn.metrics import r2_score\n",
    "from sklearn.metrics import mean_squared_error as mse\n",
    "\n",
    "model = LinearRegression(fit_intercept=True).fit(Xlr, y)\n",
    "print(model.coef_, model.intercept_) \n",
    "ypredl0 = model.predict(Xlr)\n",
    "print(r2_score(ypredl0, y), mse(ypredl0, y, squared=False)/np.median(y))"
   ]
  },
  {
   "cell_type": "code",
   "execution_count": 43,
   "metadata": {},
   "outputs": [
    {
     "data": {
      "text/plain": [
       "array([[ 0.10515867,  0.10532242],\n",
       "       [-0.99659634, -0.99590008]])"
      ]
     },
     "execution_count": 43,
     "metadata": {},
     "output_type": "execute_result"
    }
   ],
   "source": [
    "import statsmodels.api as sm\n",
    "alpha = 0.05\n",
    "lr = sm.OLS(y, Xl0).fit()\n",
    "lr.conf_int(alpha)"
   ]
  },
  {
   "cell_type": "code",
   "execution_count": 60,
   "metadata": {},
   "outputs": [
    {
     "name": "stderr",
     "output_type": "stream",
     "text": [
      "C:\\ProgramData\\Anaconda3\\lib\\site-packages\\seaborn\\distributions.py:2551: FutureWarning: `distplot` is a deprecated function and will be removed in a future version. Please adapt your code to use either `displot` (a figure-level function with similar flexibility) or `histplot` (an axes-level function for histograms).\n",
      "  warnings.warn(msg, FutureWarning)\n"
     ]
    },
    {
     "data": {
      "text/plain": [
       "<AxesSubplot:ylabel='Density'>"
      ]
     },
     "execution_count": 60,
     "metadata": {},
     "output_type": "execute_result"
    },
    {
     "data": {
      "image/png": "[encoded data removed]",
      "text/plain": [
       "<Figure size 432x288 with 1 Axes>"
      ]
     },
     "metadata": {
      "needs_background": "light"
     },
     "output_type": "display_data"
    }
   ],
   "source": [
    "import seaborn as sns\n",
    "resid = lr.resid\n",
    "sns.distplot(resid)"
   ]
  },
  {
   "cell_type": "code",
   "execution_count": 63,
   "metadata": {},
   "outputs": [
    {
     "data": {
      "image/png": "[encoded data removed]",
      "text/plain": [
       "<Figure size 432x288 with 1 Axes>"
      ]
     },
     "metadata": {
      "needs_background": "light"
     },
     "output_type": "display_data"
    }
   ],
   "source": [
    "norm = np.random.normal(2, 10, (1000,))\n",
    "sm.qqplot(resid, line='s')\n",
    "plt.show()"
   ]
  },
  {
   "cell_type": "code",
   "execution_count": 66,
   "metadata": {},
   "outputs": [
    {
     "data": {
      "text/plain": [
       "33.04359383015209"
      ]
     },
     "execution_count": 66,
     "metadata": {},
     "output_type": "execute_result"
    }
   ],
   "source": [
    "from scipy.stats import kurtosis\n",
    "kurtosis(resid)"
   ]
  },
  {
   "cell_type": "code",
   "execution_count": 48,
   "metadata": {},
   "outputs": [
    {
     "name": "stdout",
     "output_type": "stream",
     "text": [
      "[[ 2.33760124e-03 -2.22005471e-04  1.06186799e-01  3.29957092e-03\n",
      "  -1.00843775e+00  4.95346468e-03 -8.97192471e-03]] 0.0\n",
      "0.9998030228074355 313.3445541009108\n"
     ]
    }
   ],
   "source": [
    "X = np.hstack([c1r, c1x, c1xx, c1xxx, np.multiply(c1r, c1x), np.multiply(c1r, c1xx), np.multiply(c1r, c1xxx)])\n",
    "y = c1t\n",
    "model = LinearRegression(fit_intercept=False).fit(X, y)\n",
    "print(model.coef_, model.intercept_) \n",
    "ypredl0 = model.predict(X)\n",
    "print(r2_score(ypredl0, y), mse(ypredl0, y, squared=False)/np.median(y))"
   ]
  },
  {
   "cell_type": "code",
   "execution_count": 49,
   "metadata": {},
   "outputs": [
    {
     "data": {
      "text/plain": [
       "array([[ 0.10515867,  0.10532242],\n",
       "       [-0.99659634, -0.99590008]])"
      ]
     },
     "execution_count": 49,
     "metadata": {},
     "output_type": "execute_result"
    }
   ],
   "source": [
    "import statsmodels.api as sm\n",
    "alpha = 0.05\n",
    "l = sm.OLS(y, Xl0).fit()\n",
    "l.conf_int(alpha)"
   ]
  },
  {
   "cell_type": "code",
   "execution_count": 58,
   "metadata": {},
   "outputs": [
    {
     "data": {
      "image/png": "[encoded data removed]",
      "text/plain": [
       "<Figure size 360x360 with 1 Axes>"
      ]
     },
     "metadata": {
      "needs_background": "light"
     },
     "output_type": "display_data"
    }
   ],
   "source": [
    "import seaborn as sns\n",
    "resid = l.resid\n",
    "sns.displot(resid)\n",
    "plt.show()"
   ]
  },
  {
   "cell_type": "code",
   "execution_count": 57,
   "metadata": {},
   "outputs": [
    {
     "data": {
      "image/png": "[encoded data removed]",
      "text/plain": [
       "<Figure size 432x288 with 1 Axes>"
      ]
     },
     "metadata": {
      "needs_background": "light"
     },
     "output_type": "display_data"
    }
   ],
   "source": [
    "norm = np.random.normal(2, 10, (1000,))\n",
    "sm.qqplot(resid, line='s')\n",
    "plt.show()"
   ]
  },
  {
   "cell_type": "markdown",
   "metadata": {},
   "source": [
    "# Are the derivatives calculated correctly? Yes!"
   ]
  },
  {
   "cell_type": "code",
   "execution_count": 18,
   "metadata": {},
   "outputs": [],
   "source": [
    "t = np.linspace(0, 1, 700)\n",
    "x = np.linspace(0, 1, 700)\n",
    "w = 1\n",
    "x1, t1 = np.meshgrid(x, t)\n",
    "u = (np.sin(w * x1) + np.cos(w * x1)) * (np.exp(-t1))"
   ]
  },
  {
   "cell_type": "code",
   "execution_count": 19,
   "metadata": {
    "scrolled": true
   },
   "outputs": [
    {
     "data": {
      "image/png": "[encoded data removed]",
      "text/plain": [
       "<Figure size 432x288 with 1 Axes>"
      ]
     },
     "metadata": {
      "needs_background": "light"
     },
     "output_type": "display_data"
    }
   ],
   "source": [
    "from matplotlib import cm\n",
    "fig, ax = plt.subplots(subplot_kw={\"projection\": \"3d\"})\n",
    "\n",
    "\n",
    "ax.plot_surface(x1, t1, u, cmap=cm.coolwarm, linewidth=0, antialiased=True)\n",
    "plt.show()"
   ]
  },
  {
   "cell_type": "code",
   "execution_count": 20,
   "metadata": {},
   "outputs": [
    {
     "data": {
      "text/plain": [
       "(700, 700)"
      ]
     },
     "execution_count": 20,
     "metadata": {},
     "output_type": "execute_result"
    }
   ],
   "source": [
    "u.shape"
   ]
  },
  {
   "cell_type": "code",
   "execution_count": 21,
   "metadata": {},
   "outputs": [],
   "source": [
    "u, ut, ux, uxx, uxxx = derivatives(u, x, t)"
   ]
  },
  {
   "cell_type": "code",
   "execution_count": 26,
   "metadata": {},
   "outputs": [
    {
     "name": "stdout",
     "output_type": "stream",
     "text": [
      "[[1.0000028]] 0.0\n"
     ]
    }
   ],
   "source": [
    "from sklearn.linear_model import LinearRegression\n",
    "\n",
    "Xlr = np.hstack([uxx])\n",
    "y = ut\n",
    "model = LinearRegression(fit_intercept=False).fit(Xlr, y)\n",
    "print(model.coef_, model.intercept_) "
   ]
  },
  {
   "cell_type": "code",
   "execution_count": 27,
   "metadata": {},
   "outputs": [
    {
     "data": {
      "text/plain": [
       "(478864, 4)"
      ]
     },
     "execution_count": 27,
     "metadata": {},
     "output_type": "execute_result"
    }
   ],
   "source": [
    "X = np.hstack([u.reshape((u.shape[0] * u.shape[1], 1)), ux, uxx, uxxx])\n",
    "X.shape"
   ]
  },
  {
   "cell_type": "code",
   "execution_count": 29,
   "metadata": {},
   "outputs": [],
   "source": [
    "from sklearn.preprocessing import StandardScaler\n",
    "Xs = StandardScaler().fit_transform(X)"
   ]
  },
  {
   "cell_type": "code",
   "execution_count": 32,
   "metadata": {},
   "outputs": [
    {
     "data": {
      "image/png": "[encoded data removed]",
      "text/plain": [
       "<Figure size 360x360 with 2 Axes>"
      ]
     },
     "metadata": {
      "needs_background": "light"
     },
     "output_type": "display_data"
    }
   ],
   "source": [
    "import seaborn as sns\n",
    "corr = np.corrcoef(Xs.T)\n",
    "plt.figure(figsize=(5, 5))\n",
    "sns.heatmap(np.abs(corr), annot=True, cmap='coolwarm', xticklabels=['u', 'ux', 'uxx', 'uxxx'], yticklabels=['u', 'ux', 'uxx', 'uxxx'], annot_kws={\"fontsize\":11})\n",
    "plt.title(\"Correlation Heatmap of Concentrations and their Derivatives\", pad=10)\n",
    "plt.show()"
   ]
  },
  {
   "cell_type": "code",
   "execution_count": 17,
   "metadata": {},
   "outputs": [
    {
     "data": {
      "text/plain": [
       "array([2.53394901e+02, 2.10782994e+02, 5.17837162e+01, 4.95377256e-08,\n",
       "       1.63897021e-10])"
      ]
     },
     "execution_count": 17,
     "metadata": {},
     "output_type": "execute_result"
    }
   ],
   "source": [
    "u, s, v = np.linalg.svd(Xs, full_matrices=False)\n",
    "s"
   ]
  },
  {
   "cell_type": "markdown",
   "metadata": {},
   "source": [
    "# Does L0BnB recover Burgers Equation? Yes!"
   ]
  },
  {
   "cell_type": "code",
   "execution_count": 5,
   "metadata": {},
   "outputs": [
    {
     "name": "stdout",
     "output_type": "stream",
     "text": [
      "====================================================================================================\n",
      "SNR =  No noise\n",
      "(101, 256)\n",
      "Preprocessing Data.\n",
      "BnB Started.\n",
      "Iteration: 1. Number of non-zeros:  1\n",
      "Iteration: 2. Number of non-zeros:  2\n",
      "Iteration: 3. Number of non-zeros:  3\n",
      "Iteration: 4. Number of non-zeros:  5\n",
      "\n",
      "PDEs Predicted by GKFL0: \n",
      "u_t = (-0.289954)u_{x}\n",
      "u_t = (0.108011)u_{xx} + (-0.843328)uu_{x}\n",
      "u_t = (-0.123734)u_{x} + (0.093712)u_{xx} + (-0.532303)uu_{x}\n",
      "u_t = (-0.122883)u_{x} + (0.069888)u_{xx} + (-0.590141)uu_{x} + (0.074652)uu_{xx} + (-0.043987)u^2u_{xxx}\n",
      "\n",
      "Desired PDE:  u_t = (0.108011)u_{xx} + (-0.843328)uu_{x}\n"
     ]
    }
   ],
   "source": [
    "# Burgers equation ut = 0.1uxx -1 uux\n",
    "\n",
    "pred_coefficients=[]\n",
    "\n",
    "snrs = [\"No noise\"]\n",
    "\n",
    "for j in range(len(snrs)):\n",
    "    print(\"=\"*100)\n",
    "    print(\"SNR = \",snrs[j])\n",
    "\n",
    "    # Loading u,x,t\n",
    "    path = data_path+\"/2_\"+str(29)+\".pkl\"\n",
    "    sols,descr = discover_pde(path,sigma=6)\n",
    "    print(\"\\nPDEs Predicted by GKFL0: \")\n",
    "    for i in range(len(sols)):\n",
    "        print(return_pde(sols[i][\"B\"], descr))\n",
    "    \n",
    "    # Desired PDE\n",
    "    w= sols[1][\"B\"]\n",
    "    print(\"\\nDesired PDE: \", return_pde(w, descr))\n",
    "    pred_coefficients.append([snrs[j]]+list(w))"
   ]
  },
  {
   "cell_type": "code",
   "execution_count": null,
   "metadata": {},
   "outputs": [],
   "source": []
  },
  {
   "cell_type": "markdown",
   "metadata": {},
   "source": [
    "# Does MATLAB data give mistakes? No!"
   ]
  },
  {
   "cell_type": "code",
   "execution_count": 76,
   "metadata": {},
   "outputs": [],
   "source": [
    "import pandas as pd"
   ]
  },
  {
   "cell_type": "code",
   "execution_count": 77,
   "metadata": {},
   "outputs": [],
   "source": [
    "def load_data(file):\n",
    "    \"\"\"\n",
    "    This function loads the data.\n",
    "    \n",
    "    X = 300, T = 200\n",
    "    \n",
    "    Inputs:\n",
    "        file    :    CSV file of shape (X, T) of the non-dimensional length and time. Take 0 <= X, T <= 1.\n",
    "    \n",
    "    Returns:\n",
    "        u       :    Numpy Array of shape (T, X) of the data\n",
    "        x       :    Numpy Array of shape (X,)\n",
    "        t       :    Numpy Array of shape (T,)\n",
    "        dx      :    1/400\n",
    "        dt      :    1/300\n",
    "    \"\"\"\n",
    "    file_to_read = pd.read_csv(file, index_col=False, header=None)\n",
    "    u = np.array(file_to_read)\n",
    "    x = np.linspace(0, 1, 300)\n",
    "    t = np.linspace(0, 1, 200)\n",
    "\n",
    "    return u, x, t"
   ]
  },
  {
   "cell_type": "code",
   "execution_count": 78,
   "metadata": {},
   "outputs": [],
   "source": [
    "data_path = './pfr/'\n",
    "c1, x, t = load_data(data_path + 'heat.csv')\n",
    "c1, c1t, c1x, c1xx, c1xxx = derivatives(c1, x, t)"
   ]
  },
  {
   "cell_type": "code",
   "execution_count": 79,
   "metadata": {},
   "outputs": [
    {
     "name": "stdout",
     "output_type": "stream",
     "text": [
      "[[0.99625751]] 0.0\n"
     ]
    }
   ],
   "source": [
    "from sklearn.linear_model import LinearRegression\n",
    "\n",
    "Xlr = np.hstack([c1xx])\n",
    "y = c1t\n",
    "model = LinearRegression(fit_intercept=False).fit(Xlr, y)\n",
    "print(model.coef_, model.intercept_) "
   ]
  }
 ],
 "metadata": {
  "kernelspec": {
   "display_name": "Python 3",
   "language": "python",
   "name": "python3"
  },
  "language_info": {
   "codemirror_mode": {
    "name": "ipython",
    "version": 3
   },
   "file_extension": ".py",
   "mimetype": "text/x-python",
   "name": "python",
   "nbconvert_exporter": "python",
   "pygments_lexer": "ipython3",
   "version": "3.8.5"
  }
 },
 "nbformat": 4,
 "nbformat_minor": 5
}
