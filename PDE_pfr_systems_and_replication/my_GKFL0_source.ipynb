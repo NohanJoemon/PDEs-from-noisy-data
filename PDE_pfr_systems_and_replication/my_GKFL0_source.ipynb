{
 "cells": [
  {
   "cell_type": "code",
   "execution_count": 1,
   "metadata": {},
   "outputs": [],
   "source": [
    "from my_GKFL0 import *\n",
    "import pandas as pd\n",
    "import time"
   ]
  },
  {
   "cell_type": "code",
   "execution_count": 2,
   "metadata": {},
   "outputs": [],
   "source": [
    "import scipy.signal.signaltools\n",
    "\n",
    "def _centered(arr, newsize):\n",
    "    # Return the center newsize portion of the array.\n",
    "    newsize = np.asarray(newsize)\n",
    "    currsize = np.array(arr.shape)\n",
    "    startind = (currsize - newsize) // 2\n",
    "    endind = startind + newsize\n",
    "    myslice = [slice(startind[k], endind[k]) for k in range(len(endind))]\n",
    "    return arr[tuple(myslice)]\n",
    "\n",
    "scipy.signal.signaltools._centered = _centered"
   ]
  },
  {
   "cell_type": "code",
   "execution_count": 3,
   "metadata": {},
   "outputs": [],
   "source": [
    "data_path = './pfr/'"
   ]
  },
  {
   "cell_type": "code",
   "execution_count": 4,
   "metadata": {},
   "outputs": [],
   "source": [
    "def load_data(file, X, T):\n",
    "    \"\"\"\n",
    "    This function loads the data.\n",
    "    \n",
    "    X = 300, T = 200\n",
    "    \n",
    "    Inputs:\n",
    "        file    :    CSV file of shape (X, T) of the non-dimensional length and time. Take 0 <= X, T <= 1.\n",
    "    \n",
    "    Returns:\n",
    "        u       :    Numpy Array of shape (T, X) of the data\n",
    "        x       :    Numpy Array of shape (X,)\n",
    "        t       :    Numpy Array of shape (T,)\n",
    "        dx      :    1/400\n",
    "        dt      :    1/300\n",
    "    \"\"\"\n",
    "    file_to_read = pd.read_csv(file, index_col=False, header=None)\n",
    "    u = np.array(file_to_read)\n",
    "    x = np.linspace(0, 1, X)\n",
    "    t = np.linspace(0, 1, T)\n",
    "\n",
    "    return u, x, t"
   ]
  },
  {
   "cell_type": "markdown",
   "metadata": {},
   "source": [
    "# u_{t} = -0.5u_{x} + 0.5u_{xx} -1.5u (No noise)"
   ]
  },
  {
   "cell_type": "code",
   "execution_count": 5,
   "metadata": {},
   "outputs": [
    {
     "name": "stdout",
     "output_type": "stream",
     "text": [
      "0.1842222600854723 0.18422226008547232\n",
      "Preprocessing Data.\n",
      "BnB Started.\n",
      "Iteration: 1. Number of non-zeros:  1\n",
      "Iteration: 2. Number of non-zeros:  2\n",
      "Iteration: 3. Number of non-zeros:  3\n",
      "u_t = (-1.168153)u\n",
      "u_t = (-1.345524)u_{x} + (-1.401784)u\n",
      "u_t = (-0.525252)u_{x} + (0.483528)u_{xx} + (-1.495026)u\n"
     ]
    }
   ],
   "source": [
    "X = 200\n",
    "T = 200\n",
    "c1, x, t = load_data(data_path + 'U_200.csv', X, T)\n",
    "\n",
    "sols, descr, X, y = discover_pde_u(c1, x, t, 0, 3, 9, 6e-5, 1, 3)\n",
    "\n",
    "for i in range(len(sols)):\n",
    "    print(return_pde(sols[i][\"B\"], descr))"
   ]
  },
  {
   "cell_type": "code",
   "execution_count": 6,
   "metadata": {},
   "outputs": [
    {
     "name": "stdout",
     "output_type": "stream",
     "text": [
      "0.18535306770482052 0.18535306770482052\n",
      "Preprocessing Data.\n",
      "BnB Started.\n",
      "Iteration: 1. Number of non-zeros:  1\n",
      "Iteration: 2. Number of non-zeros:  2\n",
      "Iteration: 3. Number of non-zeros:  3\n",
      "u_t = (-1.162972)u\n",
      "u_t = (-1.336494)u_{x} + (-1.395567)u\n",
      "u_t = (-0.507243)u_{x} + (0.494620)u_{xx} + (-1.497720)u\n"
     ]
    }
   ],
   "source": [
    "X = 100\n",
    "T = 100\n",
    "c1, x, t = load_data(data_path + 'U_100.csv', X, T)\n",
    "\n",
    "sols, descr, X, y = discover_pde_u(c1, x, t, 0, 3, 9, 1e-5, 1, 3)\n",
    "\n",
    "for i in range(len(sols)):\n",
    "    print(return_pde(sols[i][\"B\"], descr))"
   ]
  },
  {
   "cell_type": "code",
   "execution_count": 7,
   "metadata": {},
   "outputs": [
    {
     "name": "stdout",
     "output_type": "stream",
     "text": [
      "0.18761779985928143 0.18761779985928143\n",
      "Preprocessing Data.\n",
      "BnB Started.\n",
      "Iteration: 1. Number of non-zeros:  1\n",
      "Iteration: 2. Number of non-zeros:  2\n",
      "Iteration: 3. Number of non-zeros:  3\n",
      "u_t = (-1.152432)u\n",
      "u_t = (-1.314299)u_{x} + (-1.382919)u\n",
      "u_t = (-0.505560)u_{x} + (0.496958)u_{xx} + (-1.499724)u\n"
     ]
    }
   ],
   "source": [
    "X = 50\n",
    "T = 50\n",
    "c1, x, t = load_data(data_path + 'U_50.csv', X, T)\n",
    "\n",
    "sols, descr, X, y = discover_pde_u(c1, x, t, 0, 3, 9, 1e-5, 1, 3)\n",
    "\n",
    "for i in range(len(sols)):\n",
    "    print(return_pde(sols[i][\"B\"], descr))"
   ]
  },
  {
   "cell_type": "code",
   "execution_count": 8,
   "metadata": {},
   "outputs": [
    {
     "name": "stdout",
     "output_type": "stream",
     "text": [
      "0.19443301609955388 0.19443301609955388\n",
      "Preprocessing Data.\n",
      "BnB Started.\n",
      "Iteration: 1. Number of non-zeros:  1\n",
      "Iteration: 2. Number of non-zeros:  2\n",
      "Iteration: 3. Number of non-zeros:  3\n",
      "Maximum KKT check iterations reached, increase kkt_max_itr to avoid this warning\n",
      "Iteration: 4. Number of non-zeros:  8\n",
      "u_t = (-1.120246)u\n",
      "u_t = (-1.211287)u_{x} + (-1.344296)u\n",
      "u_t = (-0.510751)u_{x} + (0.496660)u_{xx} + (-1.505488)u\n",
      "u_t = (-0.102173) + (-0.482657)u_{x} + (0.638117)u_{xx} + (-0.097841)u_{xxx} + (-1.360276)u + (0.551544)uu_{x} + (0.138847)uu_{xx} + (0.203624)uu_{xxx}\n"
     ]
    }
   ],
   "source": [
    "X = 20\n",
    "T = 20\n",
    "c1, x, t = load_data(data_path + 'U_20.csv', X, T)\n",
    "\n",
    "sols, descr, X, y = discover_pde_u(c1, x, t, 0, 3, 9, 1e-5, 1, 5)\n",
    "\n",
    "for i in range(len(sols)):\n",
    "    print(return_pde(sols[i][\"B\"], descr))"
   ]
  },
  {
   "cell_type": "code",
   "execution_count": 22,
   "metadata": {},
   "outputs": [
    {
     "name": "stdout",
     "output_type": "stream",
     "text": [
      "0.2065575741523656 0.2065575741523656\n",
      "Preprocessing Data.\n",
      "BnB Started.\n",
      "Iteration: 1. Number of non-zeros:  1\n",
      "Maximum KKT check iterations reached, increase kkt_max_itr to avoid this warning\n",
      "Maximum KKT check iterations reached, increase kkt_max_itr to avoid this warning\n",
      "Maximum KKT check iterations reached, increase kkt_max_itr to avoid this warning\n",
      "Maximum KKT check iterations reached, increase kkt_max_itr to avoid this warning\n",
      "Maximum KKT check iterations reached, increase kkt_max_itr to avoid this warning\n",
      "Iteration: 2. Number of non-zeros:  3\n",
      "u_t = (-1.081755)u\n",
      "u_t = (0.324399)u_{xxx} + (-1.289127)u + (-4.671367)uu_{x}\n"
     ]
    }
   ],
   "source": [
    "X = 10\n",
    "T = 10\n",
    "c1, x, t = load_data(data_path + 'U_10.csv', X, T)\n",
    "\n",
    "sols, descr, X, y = discover_pde_u(c1, x, t, 0, 3, 9, 1e-5, 1, 3)\n",
    "\n",
    "for i in range(len(sols)):\n",
    "    print(return_pde(sols[i][\"B\"], descr))"
   ]
  },
  {
   "cell_type": "markdown",
   "metadata": {},
   "source": [
    "# u_{t} = -0.5u_{x} + 0.5u_{xx} -1.5u (SNR = 10^4)"
   ]
  },
  {
   "cell_type": "code",
   "execution_count": 10,
   "metadata": {},
   "outputs": [
    {
     "name": "stdout",
     "output_type": "stream",
     "text": [
      "0.1841316543953682 0.1842394365553133\n",
      "Preprocessing Data.\n",
      "BnB Started.\n",
      "Iteration: 1. Number of non-zeros:  1\n",
      "Iteration: 2. Number of non-zeros:  2\n",
      "Maximum KKT check iterations reached, increase kkt_max_itr to avoid this warning\n",
      "Maximum KKT check iterations reached, increase kkt_max_itr to avoid this warning\n",
      "Iteration: 3. Number of non-zeros:  3\n",
      "u_t = (-1.104322)u\n",
      "u_t = (-1.133973)u_{x} + (-1.325186)u\n",
      "u_t = (-0.582187)u_{x} + (0.458354)u_{xx} + (-1.498848)u\n"
     ]
    }
   ],
   "source": [
    "np.random.seed(42)\n",
    "X = 200\n",
    "T = 200\n",
    "c1, x, t = load_data(data_path + 'U_200.csv', X, T)\n",
    "snr = 1e4\n",
    "noise = np.random.normal(0, np.sqrt(1/snr) * np.std(c1), c1.shape)\n",
    "\n",
    "sols, descr, X, y = discover_pde_u(c1 + noise, x, t, 1.6, 3, 101, 1e-8, 1, 3)\n",
    "\n",
    "for i in range(len(sols)):\n",
    "    print(return_pde(sols[i][\"B\"], descr))"
   ]
  },
  {
   "cell_type": "code",
   "execution_count": 11,
   "metadata": {},
   "outputs": [
    {
     "name": "stdout",
     "output_type": "stream",
     "text": [
      "0.18527676427091838 0.18538428322739384\n",
      "Preprocessing Data.\n",
      "BnB Started.\n",
      "Iteration: 1. Number of non-zeros:  1\n",
      "Iteration: 2. Number of non-zeros:  2\n",
      "Iteration: 3. Number of non-zeros:  3\n",
      "u_t = (-1.105239)u\n",
      "u_t = (-1.136276)u_{x} + (-1.326287)u\n",
      "u_t = (-0.540369)u_{x} + (0.480083)u_{xx} + (-1.502593)u\n"
     ]
    }
   ],
   "source": [
    "np.random.seed(42)\n",
    "X = 100\n",
    "T = 100\n",
    "c1, x, t = load_data(data_path + 'U_100.csv', X, T)\n",
    "snr = 1e4\n",
    "noise = np.random.normal(0, np.sqrt(1/snr) * np.std(c1), c1.shape)\n",
    "\n",
    "sols, descr, X, y = discover_pde_u(c1 + noise, x, t, 0.8, 3, 51, 1e-8, 1, 3)\n",
    "\n",
    "for i in range(len(sols)):\n",
    "    print(return_pde(sols[i][\"B\"], descr))"
   ]
  },
  {
   "cell_type": "code",
   "execution_count": 12,
   "metadata": {},
   "outputs": [
    {
     "name": "stdout",
     "output_type": "stream",
     "text": [
      "0.18699532991538287 0.18761083084543156\n",
      "Preprocessing Data.\n",
      "BnB Started.\n",
      "Iteration: 1. Number of non-zeros:  1\n",
      "Iteration: 2. Number of non-zeros:  2\n",
      "Iteration: 3. Number of non-zeros:  3\n",
      "u_t = (-1.109515)u\n",
      "u_t = (-1.147799)u_{x} + (-1.331418)u\n",
      "u_t = (-0.760687)u_{x} + (0.361953)u_{xx} + (-1.480909)u\n"
     ]
    }
   ],
   "source": [
    "np.random.seed(42)\n",
    "X = 50\n",
    "T = 50\n",
    "c1, x, t = load_data(data_path + 'U_50.csv', X, T)\n",
    "snr = 1e4\n",
    "noise = np.random.normal(0, np.sqrt(1/snr) * np.std(c1), c1.shape)\n",
    "\n",
    "sols, descr, X, y = discover_pde_u(c1 + noise, x, t, 1, 3, 25, 1e-8, 1, 3)\n",
    "\n",
    "for i in range(len(sols)):\n",
    "    print(return_pde(sols[i][\"B\"], descr))"
   ]
  },
  {
   "cell_type": "markdown",
   "metadata": {},
   "source": [
    "# u_{t} = -0.5u_{x} + 0.5u_{xx} -1.5u (SNR = 10^3)"
   ]
  },
  {
   "cell_type": "code",
   "execution_count": 13,
   "metadata": {},
   "outputs": [
    {
     "name": "stdout",
     "output_type": "stream",
     "text": [
      "0.18338651656874147 0.1839295531191813\n",
      "Preprocessing Data.\n",
      "BnB Started.\n",
      "Iteration: 1. Number of non-zeros:  1\n",
      "Iteration: 2. Number of non-zeros:  2\n",
      "Iteration: 3. Number of non-zeros:  3\n",
      "u_t = (-1.104669)u\n",
      "u_t = (-1.136478)u_{x} + (-1.325603)u\n",
      "u_t = (-0.616092)u_{x} + (0.446187)u_{xx} + (-1.498540)u\n"
     ]
    }
   ],
   "source": [
    "np.random.seed(42)\n",
    "X = 300\n",
    "T = 300\n",
    "c1, x, t = load_data(data_path + 'U_300.csv', X, T)\n",
    "snr = 1e3\n",
    "noise = np.random.normal(0, np.sqrt(1/snr) * np.std(c1), c1.shape)\n",
    "\n",
    "sols, descr, X, y = discover_pde_u(c1 + noise, x, t, 5.2, 3, 151, 1e-8, 1, 3)\n",
    "\n",
    "for i in range(len(sols)):\n",
    "    print(return_pde(sols[i][\"B\"], descr))"
   ]
  },
  {
   "cell_type": "code",
   "execution_count": 14,
   "metadata": {},
   "outputs": [
    {
     "name": "stdout",
     "output_type": "stream",
     "text": [
      "0.18336343154204404 0.18433953837934466\n",
      "Preprocessing Data.\n",
      "BnB Started.\n",
      "Iteration: 1. Number of non-zeros:  1\n",
      "Iteration: 2. Number of non-zeros:  2\n",
      "Iteration: 3. Number of non-zeros:  3\n",
      "u_t = (-1.105787)u\n",
      "u_t = (-1.133296)u_{x} + (-1.326945)u\n",
      "u_t = (-0.697729)u_{x} + (0.403670)u_{xx} + (-1.492970)u\n"
     ]
    }
   ],
   "source": [
    "np.random.seed(42)\n",
    "X = 200\n",
    "T = 200\n",
    "c1, x, t = load_data(data_path + 'U_200.csv', X, T)\n",
    "snr = 1e3\n",
    "noise = np.random.normal(0, np.sqrt(1/snr) * np.std(c1), c1.shape)\n",
    "\n",
    "sols, descr, X, y = discover_pde_u(c1 + noise, x, t, 4.9, 3, 101, 1e-8, 1, 3)\n",
    "\n",
    "for i in range(len(sols)):\n",
    "    print(return_pde(sols[i][\"B\"], descr))"
   ]
  },
  {
   "cell_type": "code",
   "execution_count": 15,
   "metadata": {},
   "outputs": [
    {
     "name": "stdout",
     "output_type": "stream",
     "text": [
      "0.18234673593771705 0.1855155198152628\n",
      "Preprocessing Data.\n",
      "BnB Started.\n",
      "Iteration: 1. Number of non-zeros:  1\n",
      "Iteration: 2. Number of non-zeros:  2\n",
      "Maximum KKT check iterations reached, increase kkt_max_itr to avoid this warning\n",
      "Iteration: 3. Number of non-zeros:  3\n",
      "u_t = (-1.112647)u\n",
      "u_t = (-1.143094)u_{x} + (-1.335176)u\n",
      "u_t = (-0.874514)u_{x} + (0.343854)u_{xx} + (-1.496310)u\n"
     ]
    }
   ],
   "source": [
    "np.random.seed(42)\n",
    "X = 100\n",
    "T = 100\n",
    "c1, x, t = load_data(data_path + 'U_100.csv', X, T)\n",
    "snr = 1e3\n",
    "noise = np.random.normal(0, np.sqrt(1/snr) * np.std(c1), c1.shape)\n",
    "\n",
    "sols, descr, X, y = discover_pde_u(c1 + noise, x, t, 4.7, 3, 51, 1e-8, 1, 3)\n",
    "\n",
    "for i in range(len(sols)):\n",
    "    print(return_pde(sols[i][\"B\"], descr))"
   ]
  },
  {
   "cell_type": "code",
   "execution_count": 16,
   "metadata": {},
   "outputs": [
    {
     "name": "stdout",
     "output_type": "stream",
     "text": [
      "0.1781428296746448 0.18765769277052\n",
      "Preprocessing Data.\n",
      "BnB Started.\n",
      "Iteration: 1. Number of non-zeros:  1\n",
      "Iteration: 2. Number of non-zeros:  2\n",
      "Maximum KKT check iterations reached, increase kkt_max_itr to avoid this warning\n",
      "Maximum KKT check iterations reached, increase kkt_max_itr to avoid this warning\n",
      "Maximum KKT check iterations reached, increase kkt_max_itr to avoid this warning\n",
      "Maximum KKT check iterations reached, increase kkt_max_itr to avoid this warning\n",
      "Iteration: 3. Number of non-zeros:  3\n",
      "u_t = (-1.110996)u\n",
      "u_t = (-1.022036)u_{x} + (-1.333195)u\n",
      "u_t = (-1.189885)u_{x} + (0.299200)u_{xx} + (-1.554857)u\n"
     ]
    }
   ],
   "source": [
    "np.random.seed(42)\n",
    "X = 50\n",
    "T = 50\n",
    "c1, x, t = load_data(data_path + 'U_50.csv', X, T)\n",
    "snr = 1e3\n",
    "noise = np.random.normal(0, np.sqrt(1/snr) * np.std(c1), c1.shape)\n",
    "\n",
    "sols, descr, X, y = discover_pde_u(c1 + noise, x, t, 4.3, 3, 37, 1e-8, 1, 3)\n",
    "\n",
    "for i in range(len(sols)):\n",
    "    print(return_pde(sols[i][\"B\"], descr))"
   ]
  },
  {
   "cell_type": "markdown",
   "metadata": {},
   "source": [
    "# Default"
   ]
  },
  {
   "cell_type": "markdown",
   "metadata": {},
   "source": [
    "# u_{t} = -0.5u_{x} + 0.5u_{xx} -1.5u (No noise)"
   ]
  },
  {
   "cell_type": "code",
   "execution_count": 23,
   "metadata": {},
   "outputs": [
    {
     "name": "stdout",
     "output_type": "stream",
     "text": [
      "0.18291743904885968 0.18422226008547232\n",
      "Preprocessing Data.\n",
      "BnB Started.\n",
      "Iteration: 1. Number of non-zeros:  1\n",
      "Iteration: 2. Number of non-zeros:  2\n",
      "Iteration: 3. Number of non-zeros:  3\n",
      "u_t = (-1.108071)u\n",
      "u_t = (-1.160119)u_{x} + (-1.307923)u\n",
      "u_t = (-0.096257) + (-1.298162)u_{x} + (-1.181461)u\n"
     ]
    }
   ],
   "source": [
    "X = 200\n",
    "T = 200\n",
    "c1, x, t = load_data(data_path + 'U_200.csv', X, T)\n",
    "\n",
    "sols, descr, X, y = discover_pde_u(c1, x, t, 6, 3, 9, 1e-2, 1, 3)\n",
    "\n",
    "for i in range(len(sols)):\n",
    "    print(return_pde(sols[i][\"B\"], descr))"
   ]
  },
  {
   "cell_type": "code",
   "execution_count": 24,
   "metadata": {},
   "outputs": [
    {
     "name": "stdout",
     "output_type": "stream",
     "text": [
      "0.18050866925435397 0.18535306770482052\n",
      "Preprocessing Data.\n",
      "BnB Started.\n",
      "Iteration: 1. Number of non-zeros:  1\n",
      "Iteration: 2. Number of non-zeros:  2\n",
      "Iteration: 3. Number of non-zeros:  3\n",
      "u_t = (-1.065641)u\n",
      "u_t = (-1.066517)u_{x} + (-1.246989)u\n",
      "u_t = (-0.141422) + (-1.286703)u_{x} + (-1.061000)u\n"
     ]
    }
   ],
   "source": [
    "X = 100\n",
    "T = 100\n",
    "c1, x, t = load_data(data_path + 'U_100.csv', X, T)\n",
    "\n",
    "sols, descr, X, y = discover_pde_u(c1, x, t, 6, 3, 9, 1e-2, 1, 3)\n",
    "\n",
    "for i in range(len(sols)):\n",
    "    print(return_pde(sols[i][\"B\"], descr))"
   ]
  },
  {
   "cell_type": "code",
   "execution_count": 25,
   "metadata": {},
   "outputs": [
    {
     "name": "stdout",
     "output_type": "stream",
     "text": [
      "0.1706670766886937 0.18761779985928143\n",
      "Preprocessing Data.\n",
      "BnB Started.\n",
      "Iteration: 1. Number of non-zeros:  1\n",
      "Iteration: 2. Number of non-zeros:  2\n",
      "Iteration: 3. Number of non-zeros:  3\n",
      "u_t = (-0.981230)u\n",
      "u_t = (-0.840885)u_{x} + (-1.120138)u\n",
      "u_t = (-0.209716) + (-1.228345)u_{x} + (-0.845998)u\n"
     ]
    }
   ],
   "source": [
    "X = 50\n",
    "T = 50\n",
    "c1, x, t = load_data(data_path + 'U_50.csv', X, T)\n",
    "\n",
    "sols, descr, X, y = discover_pde_u(c1, x, t, 6, 3, 9, 1e-2, 1, 3)\n",
    "\n",
    "for i in range(len(sols)):\n",
    "    print(return_pde(sols[i][\"B\"], descr))"
   ]
  },
  {
   "cell_type": "code",
   "execution_count": 26,
   "metadata": {},
   "outputs": [
    {
     "name": "stdout",
     "output_type": "stream",
     "text": [
      "0.11846715480018678 0.19443301609955388\n",
      "Preprocessing Data.\n",
      "BnB Started.\n",
      "Iteration: 1. Number of non-zeros:  1\n",
      "Iteration: 2. Number of non-zeros:  2\n",
      "Iteration: 3. Number of non-zeros:  3\n",
      "Iteration: 4. Number of non-zeros:  8\n",
      "u_t = (-0.708254)u\n",
      "u_t = (-0.179979) + (-0.409023)u\n",
      "u_t = (-0.160936) + (-0.428271)u + (-0.363745)uu_{xx}\n",
      "u_t = (-0.163318) + (-0.529392)u_{x} + (0.096241)u_{xx} + (0.065478)u_{xxx} + (-0.374880)u + (1.696386)uu_{x} + (-0.563459)uu_{xx} + (-0.098315)uu_{xxx}\n"
     ]
    }
   ],
   "source": [
    "X = 20\n",
    "T = 20\n",
    "c1, x, t = load_data(data_path + 'U_20.csv', X, T)\n",
    "\n",
    "sols, descr, X, y = discover_pde_u(c1, x, t, 6, 3, 9, 1e-2, 1, 5)\n",
    "\n",
    "for i in range(len(sols)):\n",
    "    print(return_pde(sols[i][\"B\"], descr))"
   ]
  },
  {
   "cell_type": "code",
   "execution_count": 27,
   "metadata": {},
   "outputs": [
    {
     "name": "stdout",
     "output_type": "stream",
     "text": [
      "0.032969525567983604 0.2065575741523656\n",
      "Preprocessing Data.\n",
      "BnB Started.\n",
      "Iteration: 1. Number of non-zeros:  1\n",
      "Iteration: 2. Number of non-zeros:  6\n",
      "u_t = (-0.124452)\n",
      "u_t = (-0.021738) + (0.811268)u_{x} + (-0.111203)u_{xxx} + (-0.037732)u + (1.411920)uu_{x} + (-0.193560)uu_{xxx}\n"
     ]
    }
   ],
   "source": [
    "X = 10\n",
    "T = 10\n",
    "c1, x, t = load_data(data_path + 'U_10.csv', X, T)\n",
    "\n",
    "sols, descr, X, y = discover_pde_u(c1, x, t, 6, 3, 9, 1e-2, 1, 3)\n",
    "\n",
    "for i in range(len(sols)):\n",
    "    print(return_pde(sols[i][\"B\"], descr))"
   ]
  },
  {
   "cell_type": "markdown",
   "metadata": {},
   "source": [
    "# u_{t} = -0.5u_{x} + 0.5u_{xx} -1.5u (SNR = 10^4)"
   ]
  },
  {
   "cell_type": "code",
   "execution_count": 28,
   "metadata": {},
   "outputs": [
    {
     "name": "stdout",
     "output_type": "stream",
     "text": [
      "0.1829252935723869 0.1842394365553133\n",
      "Preprocessing Data.\n",
      "BnB Started.\n",
      "Iteration: 1. Number of non-zeros:  1\n",
      "Iteration: 2. Number of non-zeros:  2\n",
      "Iteration: 3. Number of non-zeros:  3\n",
      "u_t = (-1.108181)u\n",
      "u_t = (-1.162352)u_{x} + (-1.308411)u\n",
      "u_t = (-0.096652) + (-1.301253)u_{x} + (-1.181479)u\n"
     ]
    }
   ],
   "source": [
    "np.random.seed(42)\n",
    "X = 200\n",
    "T = 200\n",
    "c1, x, t = load_data(data_path + 'U_200.csv', X, T)\n",
    "snr = 1e4\n",
    "noise = np.random.normal(0, np.sqrt(1/snr) * np.std(c1), c1.shape)\n",
    "\n",
    "sols, descr, X, y = discover_pde_u(c1 + noise, x, t, 6, 3, 9, 1e-2, 1, 3)\n",
    "\n",
    "for i in range(len(sols)):\n",
    "    print(return_pde(sols[i][\"B\"], descr))"
   ]
  },
  {
   "cell_type": "code",
   "execution_count": 29,
   "metadata": {},
   "outputs": [
    {
     "name": "stdout",
     "output_type": "stream",
     "text": [
      "0.18053127086267248 0.18538428322739384\n",
      "Preprocessing Data.\n",
      "BnB Started.\n",
      "Iteration: 1. Number of non-zeros:  1\n",
      "Iteration: 2. Number of non-zeros:  2\n",
      "Iteration: 3. Number of non-zeros:  3\n",
      "u_t = (-1.065769)u\n",
      "u_t = (-1.066672)u_{x} + (-1.247036)u\n",
      "u_t = (-0.141218) + (-1.286679)u_{x} + (-1.061319)u\n"
     ]
    }
   ],
   "source": [
    "np.random.seed(42)\n",
    "X = 100\n",
    "T = 100\n",
    "c1, x, t = load_data(data_path + 'U_100.csv', X, T)\n",
    "snr = 1e4\n",
    "noise = np.random.normal(0, np.sqrt(1/snr) * np.std(c1), c1.shape)\n",
    "\n",
    "sols, descr, X, y = discover_pde_u(c1 + noise, x, t, 6, 3, 9, 1e-2, 1, 3)\n",
    "\n",
    "for i in range(len(sols)):\n",
    "    print(return_pde(sols[i][\"B\"], descr))"
   ]
  },
  {
   "cell_type": "code",
   "execution_count": 30,
   "metadata": {},
   "outputs": [
    {
     "name": "stdout",
     "output_type": "stream",
     "text": [
      "0.17066233783525303 0.18761083084543156\n",
      "Preprocessing Data.\n",
      "BnB Started.\n",
      "Iteration: 1. Number of non-zeros:  1\n",
      "Iteration: 2. Number of non-zeros:  2\n",
      "Iteration: 3. Number of non-zeros:  3\n",
      "u_t = (-0.980933)u\n",
      "u_t = (-0.839166)u_{x} + (-1.119764)u\n",
      "u_t = (-0.209675) + (-1.226720)u_{x} + (-0.845843)u\n"
     ]
    }
   ],
   "source": [
    "np.random.seed(42)\n",
    "X = 50\n",
    "T = 50\n",
    "c1, x, t = load_data(data_path + 'U_50.csv', X, T)\n",
    "snr = 1e4\n",
    "noise = np.random.normal(0, np.sqrt(1/snr) * np.std(c1), c1.shape)\n",
    "\n",
    "sols, descr, X, y = discover_pde_u(c1 + noise, x, t, 6, 3, 9, 1e-2, 1, 3)\n",
    "\n",
    "for i in range(len(sols)):\n",
    "    print(return_pde(sols[i][\"B\"], descr))"
   ]
  },
  {
   "cell_type": "markdown",
   "metadata": {},
   "source": [
    "# u_{t} = -0.5u_{x} + 0.5u_{xx} -1.5u (SNR = 10^3)"
   ]
  },
  {
   "cell_type": "code",
   "execution_count": 31,
   "metadata": {},
   "outputs": [
    {
     "name": "stdout",
     "output_type": "stream",
     "text": [
      "0.18324172099630912 0.1839295531191813\n",
      "Preprocessing Data.\n",
      "BnB Started.\n",
      "Iteration: 1. Number of non-zeros:  1\n",
      "Iteration: 2. Number of non-zeros:  2\n",
      "Iteration: 3. Number of non-zeros:  4\n",
      "u_t = (-1.122600)u\n",
      "u_t = (-1.183692)u_{x} + (-1.327745)u\n",
      "u_t = (-0.073222) + (-1.284067)u_{x} + (-1.230009)u + (-0.016831)uu_{xx}\n"
     ]
    }
   ],
   "source": [
    "np.random.seed(42)\n",
    "X = 300\n",
    "T = 300\n",
    "c1, x, t = load_data(data_path + 'U_300.csv', X, T)\n",
    "snr = 1e3\n",
    "noise = np.random.normal(0, np.sqrt(1/snr) * np.std(c1), c1.shape)\n",
    "\n",
    "sols, descr, X, y = discover_pde_u(c1 + noise, x, t, 6, 3, 9, 1e-2, 1, 3)\n",
    "\n",
    "for i in range(len(sols)):\n",
    "    print(return_pde(sols[i][\"B\"], descr))"
   ]
  },
  {
   "cell_type": "code",
   "execution_count": 32,
   "metadata": {},
   "outputs": [
    {
     "name": "stdout",
     "output_type": "stream",
     "text": [
      "0.18294246580669257 0.18433953837934466\n",
      "Preprocessing Data.\n",
      "BnB Started.\n",
      "Iteration: 1. Number of non-zeros:  1\n",
      "Iteration: 2. Number of non-zeros:  2\n",
      "Iteration: 3. Number of non-zeros:  3\n",
      "u_t = (-1.108419)u\n",
      "u_t = (-1.165114)u_{x} + (-1.309109)u\n",
      "u_t = (-0.096872) + (-1.304724)u_{x} + (-1.181954)u\n"
     ]
    }
   ],
   "source": [
    "np.random.seed(42)\n",
    "X = 200\n",
    "T = 200\n",
    "c1, x, t = load_data(data_path + 'U_200.csv', X, T)\n",
    "snr = 1e3\n",
    "noise = np.random.normal(0, np.sqrt(1/snr) * np.std(c1), c1.shape)\n",
    "\n",
    "sols, descr, X, y = discover_pde_u(c1 + noise, x, t, 6, 3, 9, 1e-2, 1, 3)\n",
    "\n",
    "for i in range(len(sols)):\n",
    "    print(return_pde(sols[i][\"B\"], descr))"
   ]
  },
  {
   "cell_type": "code",
   "execution_count": 33,
   "metadata": {},
   "outputs": [
    {
     "name": "stdout",
     "output_type": "stream",
     "text": [
      "0.18058033805435497 0.1855155198152628\n",
      "Preprocessing Data.\n",
      "BnB Started.\n",
      "Iteration: 1. Number of non-zeros:  1\n",
      "Iteration: 2. Number of non-zeros:  2\n",
      "Iteration: 3. Number of non-zeros:  3\n",
      "u_t = (-1.066051)u\n",
      "u_t = (-1.066591)u_{x} + (-1.247066)u\n",
      "u_t = (-0.140638) + (-1.285896)u_{x} + (-1.062105)u\n"
     ]
    }
   ],
   "source": [
    "np.random.seed(42)\n",
    "X = 100\n",
    "T = 100\n",
    "c1, x, t = load_data(data_path + 'U_100.csv', X, T)\n",
    "snr = 1e3\n",
    "noise = np.random.normal(0, np.sqrt(1/snr) * np.std(c1), c1.shape)\n",
    "\n",
    "sols, descr, X, y = discover_pde_u(c1 + noise, x, t, 6, 3, 9, 1e-2, 1, 3)\n",
    "\n",
    "for i in range(len(sols)):\n",
    "    print(return_pde(sols[i][\"B\"], descr))"
   ]
  },
  {
   "cell_type": "code",
   "execution_count": 34,
   "metadata": {},
   "outputs": [
    {
     "name": "stdout",
     "output_type": "stream",
     "text": [
      "0.1706523463747859 0.18765769277052\n",
      "Preprocessing Data.\n",
      "BnB Started.\n",
      "Iteration: 1. Number of non-zeros:  1\n",
      "Iteration: 2. Number of non-zeros:  2\n",
      "Iteration: 3. Number of non-zeros:  3\n",
      "u_t = (-0.980293)u\n",
      "u_t = (-0.835347)u_{x} + (-1.118935)u\n",
      "u_t = (-0.209554) + (-1.222997)u_{x} + (-0.845520)u\n"
     ]
    }
   ],
   "source": [
    "np.random.seed(42)\n",
    "X = 50\n",
    "T = 50\n",
    "c1, x, t = load_data(data_path + 'U_50.csv', X, T)\n",
    "snr = 1e3\n",
    "noise = np.random.normal(0, np.sqrt(1/snr) * np.std(c1), c1.shape)\n",
    "\n",
    "sols, descr, X, y = discover_pde_u(c1 + noise, x, t, 6, 3, 9, 1e-2, 1, 3)\n",
    "\n",
    "for i in range(len(sols)):\n",
    "    print(return_pde(sols[i][\"B\"], descr))"
   ]
  },
  {
   "cell_type": "markdown",
   "metadata": {},
   "source": [
    "# Source is u^{2}"
   ]
  },
  {
   "cell_type": "code",
   "execution_count": 17,
   "metadata": {},
   "outputs": [
    {
     "name": "stdout",
     "output_type": "stream",
     "text": [
      "0.14003230451125775 0.14003230451125775\n",
      "Preprocessing Data.\n",
      "BnB Started.\n",
      "Iteration: 1. Number of non-zeros:  1\n",
      "Iteration: 2. Number of non-zeros:  2\n",
      "Maximum KKT check iterations reached, increase kkt_max_itr to avoid this warning\n",
      "Maximum KKT check iterations reached, increase kkt_max_itr to avoid this warning\n",
      "Maximum KKT check iterations reached, increase kkt_max_itr to avoid this warning\n",
      "Maximum KKT check iterations reached, increase kkt_max_itr to avoid this warning\n",
      "Maximum KKT check iterations reached, increase kkt_max_itr to avoid this warning\n",
      "Maximum KKT check iterations reached, increase kkt_max_itr to avoid this warning\n",
      "Maximum KKT check iterations reached, increase kkt_max_itr to avoid this warning\n",
      "Maximum KKT check iterations reached, increase kkt_max_itr to avoid this warning\n",
      "Maximum KKT check iterations reached, increase kkt_max_itr to avoid this warning\n",
      "Maximum KKT check iterations reached, increase kkt_max_itr to avoid this warning\n",
      "Maximum KKT check iterations reached, increase kkt_max_itr to avoid this warning\n",
      "Maximum KKT check iterations reached, increase kkt_max_itr to avoid this warning\n",
      "Maximum KKT check iterations reached, increase kkt_max_itr to avoid this warning\n",
      "Maximum KKT check iterations reached, increase kkt_max_itr to avoid this warning\n",
      "Iteration: 3. Number of non-zeros:  3\n",
      "u_t = (-1.150483)u^2\n",
      "u_t = (-1.357135)u_{x} + (-1.380580)u^2\n",
      "u_t = (-0.499991)u_{x} + (0.503120)u_{xx} + (-1.503752)u^2\n"
     ]
    }
   ],
   "source": [
    "X = 50\n",
    "T = 50\n",
    "c1, x, t = load_data(data_path + 'U2_50.csv', X, T)\n",
    "\n",
    "sols, descr, X, y = discover_pde_u(c1, x, t, 0, 3, 9, 1e-6, 2, 3)\n",
    "\n",
    "for i in range(len(sols)):\n",
    "    print(return_pde(sols[i][\"B\"], descr))"
   ]
  },
  {
   "cell_type": "markdown",
   "metadata": {},
   "source": [
    "# u_{t} = -0.5u_{x} + 0.5u_{xx} -1.5u^2 (SNR = 10^4)"
   ]
  },
  {
   "cell_type": "code",
   "execution_count": 18,
   "metadata": {},
   "outputs": [
    {
     "name": "stdout",
     "output_type": "stream",
     "text": [
      "0.13947069553784608 0.1400245326063663\n",
      "Preprocessing Data.\n",
      "BnB Started.\n",
      "Iteration: 1. Number of non-zeros:  1\n",
      "Iteration: 2. Number of non-zeros:  2\n",
      "Iteration: 3. Number of non-zeros:  3\n",
      "u_t = (-1.071157)u^2\n",
      "u_t = (-1.081057)u_{x} + (-1.285388)u^2\n",
      "u_t = (-0.732128)u_{x} + (0.380128)u_{xx} + (-1.482282)u^2\n"
     ]
    }
   ],
   "source": [
    "np.random.seed(42)\n",
    "X = 50\n",
    "T = 50\n",
    "c1, x, t = load_data(data_path + 'U2_50.csv', X, T)\n",
    "snr = 1e4\n",
    "noise = np.random.normal(0, np.sqrt(1/snr) * np.std(c1), c1.shape)\n",
    "\n",
    "sols, descr, X, y = discover_pde_u(c1 + noise, x, t, 1, 3, 25, 1e-8, 2, 3)\n",
    "\n",
    "for i in range(len(sols)):\n",
    "    print(return_pde(sols[i][\"B\"], descr))"
   ]
  },
  {
   "cell_type": "markdown",
   "metadata": {},
   "source": [
    "# u_{t} = -0.5u_{x} + 0.5u_{xx} -1.5u^2 (SNR = 10^3)"
   ]
  },
  {
   "cell_type": "code",
   "execution_count": 19,
   "metadata": {},
   "outputs": [
    {
     "name": "stdout",
     "output_type": "stream",
     "text": [
      "0.1355937946441599 0.13833684277352198\n",
      "Preprocessing Data.\n",
      "BnB Started.\n",
      "Iteration: 1. Number of non-zeros:  1\n",
      "Iteration: 2. Number of non-zeros:  2\n",
      "Iteration: 3. Number of non-zeros:  3\n",
      "u_t = (-1.078390)u^2\n",
      "u_t = (-1.081410)u_{x} + (-1.294068)u^2\n",
      "u_t = (-0.869864)u_{x} + (0.359642)u_{xx} + (-1.505586)u^2\n"
     ]
    }
   ],
   "source": [
    "np.random.seed(42)\n",
    "X = 100\n",
    "T = 100\n",
    "c1, x, t = load_data(data_path + 'U2_100.csv', X, T)\n",
    "snr = 1e3\n",
    "noise = np.random.normal(0, np.sqrt(1/snr) * np.std(c1), c1.shape)\n",
    "\n",
    "sols, descr, X, y = discover_pde_u(c1 + noise, x, t, 4.7, 3, 51, 1e-8, 2, 3)\n",
    "\n",
    "for i in range(len(sols)):\n",
    "    print(return_pde(sols[i][\"B\"], descr))"
   ]
  },
  {
   "cell_type": "markdown",
   "metadata": {},
   "source": [
    "# u_{t} = -0.5u_{x} + 0.5u_{xx} -1.5u^2 (SNR = 10^2)"
   ]
  },
  {
   "cell_type": "code",
   "execution_count": 20,
   "metadata": {
    "scrolled": true
   },
   "outputs": [
    {
     "name": "stdout",
     "output_type": "stream",
     "text": [
      "0.13391090923119098 0.13755464358969785\n",
      "Preprocessing Data.\n",
      "BnB Started.\n",
      "Iteration: 1. Number of non-zeros:  1\n",
      "Iteration: 2. Number of non-zeros:  3\n",
      "u_t = (-1.046418)u^2\n",
      "u_t = (-1.524489)u_{x} + (-0.161830)u + (-1.158378)u^2\n"
     ]
    }
   ],
   "source": [
    "np.random.seed(42)\n",
    "X = 300\n",
    "T = 300\n",
    "c1, x, t = load_data(data_path + 'U2_300.csv', X, T)\n",
    "snr = 1e2\n",
    "noise = np.random.normal(0, np.sqrt(1/snr) * np.std(c1), c1.shape)\n",
    "\n",
    "sols, descr, X, y = discover_pde_u(c1 + noise, x, t, 15, 3, 201, 1e-3, 2, 3)\n",
    "\n",
    "for i in range(len(sols)):\n",
    "    print(return_pde(sols[i][\"B\"], descr))"
   ]
  }
 ],
 "metadata": {
  "kernelspec": {
   "display_name": "Python 3",
   "language": "python",
   "name": "python3"
  },
  "language_info": {
   "codemirror_mode": {
    "name": "ipython",
    "version": 3
   },
   "file_extension": ".py",
   "mimetype": "text/x-python",
   "name": "python",
   "nbconvert_exporter": "python",
   "pygments_lexer": "ipython3",
   "version": "3.8.5"
  }
 },
 "nbformat": 4,
 "nbformat_minor": 4
}
