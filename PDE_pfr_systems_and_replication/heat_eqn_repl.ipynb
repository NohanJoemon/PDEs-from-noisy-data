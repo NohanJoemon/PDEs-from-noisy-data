{
 "cells": [
  {
   "cell_type": "code",
   "execution_count": 1,
   "metadata": {},
   "outputs": [],
   "source": [
    "from GKFL0 import *\n",
    "import pandas as pd\n",
    "import time"
   ]
  },
  {
   "cell_type": "code",
   "execution_count": 2,
   "metadata": {},
   "outputs": [],
   "source": [
    "data_path = './heateqn/'"
   ]
  },
  {
   "cell_type": "code",
   "execution_count": 3,
   "metadata": {},
   "outputs": [],
   "source": [
    "def load_data(file, X, T):\n",
    "    \"\"\"\n",
    "    This function loads the data.\n",
    "\n",
    "    Inputs:\n",
    "        file    :    CSV file of shape (X, T) of the non-dimensional length and time. Take 0 <= X, T <= 1.\n",
    "    \n",
    "    Returns:\n",
    "        u       :    Numpy Array of shape (T, X) of the data\n",
    "        x       :    Numpy Array of shape (X,)\n",
    "        t       :    Numpy Array of shape (T,)\n",
    "        dx      :    1/400\n",
    "        dt      :    1/300\n",
    "    \"\"\"\n",
    "    file_to_read = pd.read_csv(file, index_col=False, header=None)\n",
    "    u = np.array(file_to_read)\n",
    "    x = np.linspace(0, 1, X)\n",
    "    t = np.linspace(0, 1, T)\n",
    "\n",
    "    return u, x, t"
   ]
  },
  {
   "cell_type": "markdown",
   "metadata": {},
   "source": [
    "# u_{t} = 0.0075 * u_{xx} (No noise)"
   ]
  },
  {
   "cell_type": "markdown",
   "metadata": {},
   "source": [
    "200 x 200 grid"
   ]
  },
  {
   "cell_type": "code",
   "execution_count": 4,
   "metadata": {},
   "outputs": [],
   "source": [
    "X = 200\n",
    "T = 200\n",
    "c1, x, t = load_data(data_path + 'heat_200.csv', X, T)"
   ]
  },
  {
   "cell_type": "code",
   "execution_count": 5,
   "metadata": {},
   "outputs": [
    {
     "name": "stdout",
     "output_type": "stream",
     "text": [
      "0.3764897655529264 0.3764897655529264\n",
      "Preprocessing Data.\n",
      "BnB Started.\n",
      "Iteration: 1. Number of non-zeros:  1\n"
     ]
    }
   ],
   "source": [
    "sols, descr = discover_pde_u(c1, x, t, 0, 1e-2, 1, 1)"
   ]
  },
  {
   "cell_type": "code",
   "execution_count": 6,
   "metadata": {},
   "outputs": [
    {
     "name": "stdout",
     "output_type": "stream",
     "text": [
      "u_t = (0.007802)u_{xx}\n"
     ]
    }
   ],
   "source": [
    "for i in range(len(sols)):\n",
    "    print(return_pde(sols[i][\"B\"], descr))"
   ]
  },
  {
   "cell_type": "markdown",
   "metadata": {},
   "source": [
    "100 x 100 grid"
   ]
  },
  {
   "cell_type": "code",
   "execution_count": 7,
   "metadata": {},
   "outputs": [],
   "source": [
    "X = 100\n",
    "T = 100\n",
    "c1, x, t = load_data(data_path + 'heat_100.csv', X, T)"
   ]
  },
  {
   "cell_type": "code",
   "execution_count": 8,
   "metadata": {},
   "outputs": [
    {
     "name": "stdout",
     "output_type": "stream",
     "text": [
      "0.3803150369112344 0.3803150369112344\n",
      "Preprocessing Data.\n",
      "BnB Started.\n",
      "Iteration: 1. Number of non-zeros:  1\n"
     ]
    }
   ],
   "source": [
    "sols, descr = discover_pde_u(c1, x, t, 0, 6e-2, 1, 1)"
   ]
  },
  {
   "cell_type": "code",
   "execution_count": 9,
   "metadata": {},
   "outputs": [
    {
     "name": "stdout",
     "output_type": "stream",
     "text": [
      "u_t = (0.007534)u_{xx}\n"
     ]
    }
   ],
   "source": [
    "for i in range(len(sols)):\n",
    "    print(return_pde(sols[i][\"B\"], descr))"
   ]
  },
  {
   "cell_type": "markdown",
   "metadata": {},
   "source": [
    "50 x 50 grid"
   ]
  },
  {
   "cell_type": "code",
   "execution_count": 10,
   "metadata": {},
   "outputs": [],
   "source": [
    "X = 50\n",
    "T = 50\n",
    "c1, x, t = load_data(data_path + 'heat_50.csv', X, T)"
   ]
  },
  {
   "cell_type": "code",
   "execution_count": 11,
   "metadata": {},
   "outputs": [
    {
     "name": "stdout",
     "output_type": "stream",
     "text": [
      "0.28215381858015254 0.3874645864530569\n",
      "Preprocessing Data.\n",
      "BnB Started.\n",
      "Iteration: 1. Number of non-zeros:  1\n"
     ]
    }
   ],
   "source": [
    "sols, descr = discover_pde_u(c1, x, t, 6, 1.3e-1, 1, 1)"
   ]
  },
  {
   "cell_type": "code",
   "execution_count": 12,
   "metadata": {},
   "outputs": [
    {
     "name": "stdout",
     "output_type": "stream",
     "text": [
      "u_t = (0.005651)u_{xx}\n"
     ]
    }
   ],
   "source": [
    "for i in range(len(sols)):\n",
    "    print(return_pde(sols[i][\"B\"], descr))"
   ]
  },
  {
   "cell_type": "markdown",
   "metadata": {},
   "source": [
    "20 x 20 grid"
   ]
  },
  {
   "cell_type": "code",
   "execution_count": 13,
   "metadata": {},
   "outputs": [],
   "source": [
    "X = 20\n",
    "T = 20\n",
    "c1, x, t = load_data(data_path + 'heat_20.csv', X, T)"
   ]
  },
  {
   "cell_type": "code",
   "execution_count": 14,
   "metadata": {},
   "outputs": [
    {
     "name": "stdout",
     "output_type": "stream",
     "text": [
      "0.39298270217625353 0.39298270217625353\n",
      "Preprocessing Data.\n",
      "BnB Started.\n",
      "Iteration: 1. Number of non-zeros:  1\n"
     ]
    }
   ],
   "source": [
    "sols, descr = discover_pde_u(c1, x, t, 0, 2.6e-1, 1, 1)"
   ]
  },
  {
   "cell_type": "code",
   "execution_count": 15,
   "metadata": {},
   "outputs": [
    {
     "name": "stdout",
     "output_type": "stream",
     "text": [
      "u_t = (0.007541)u_{xx}\n"
     ]
    }
   ],
   "source": [
    "for i in range(len(sols)):\n",
    "    print(return_pde(sols[i][\"B\"], descr))"
   ]
  },
  {
   "cell_type": "markdown",
   "metadata": {},
   "source": [
    "10 x 10 grid"
   ]
  },
  {
   "cell_type": "code",
   "execution_count": 34,
   "metadata": {},
   "outputs": [],
   "source": [
    "X = 10\n",
    "T = 10\n",
    "c1, x, t = load_data(data_path + 'heat_10.csv', X, T)"
   ]
  },
  {
   "cell_type": "code",
   "execution_count": 62,
   "metadata": {},
   "outputs": [
    {
     "name": "stdout",
     "output_type": "stream",
     "text": [
      "0.15986522260765818 0.4051864209175821\n",
      "Preprocessing Data.\n",
      "BnB Started.\n",
      "Iteration: 1. Number of non-zeros:  1\n"
     ]
    }
   ],
   "source": [
    "sols, descr = discover_pde_u(c1, x, t, 2.1, 5e-1, 1, 1)"
   ]
  },
  {
   "cell_type": "code",
   "execution_count": 63,
   "metadata": {},
   "outputs": [
    {
     "name": "stdout",
     "output_type": "stream",
     "text": [
      "u_t = (0.005361)u_{xx}\n"
     ]
    }
   ],
   "source": [
    "for i in range(len(sols)):\n",
    "    print(return_pde(sols[i][\"B\"], descr))"
   ]
  },
  {
   "cell_type": "markdown",
   "metadata": {},
   "source": [
    "# u_{t} = 0.0075 * u_{xx} (SNR = 10)"
   ]
  },
  {
   "cell_type": "markdown",
   "metadata": {},
   "source": [
    "200 x 200 grid"
   ]
  },
  {
   "cell_type": "code",
   "execution_count": 19,
   "metadata": {},
   "outputs": [
    {
     "name": "stdout",
     "output_type": "stream",
     "text": [
      "0.3677135198084432 0.3954729489928274\n",
      "Preprocessing Data.\n",
      "BnB Started.\n",
      "Iteration: 1. Number of non-zeros:  1\n",
      "u_t = (0.006745)u_{xx}\n"
     ]
    }
   ],
   "source": [
    "np.random.seed(42)\n",
    "X = 200\n",
    "T = 200\n",
    "c1, x, t = load_data(data_path + 'heat_200.csv', X, T)\n",
    "snr = 1e1\n",
    "noise = np.random.normal(0, np.sqrt(1/snr) * np.std(c1), c1.shape)\n",
    "\n",
    "sols, descr = discover_pde_u(c1 + noise, x, t, 6, 1e-8, 1, 1)\n",
    "\n",
    "for i in range(len(sols)):\n",
    "    print(return_pde(sols[i][\"B\"], descr))"
   ]
  },
  {
   "cell_type": "markdown",
   "metadata": {},
   "source": [
    "100 x 100 grid"
   ]
  },
  {
   "cell_type": "code",
   "execution_count": 5,
   "metadata": {},
   "outputs": [
    {
     "name": "stdout",
     "output_type": "stream",
     "text": [
      "0.34665877828605196 0.39849081693386224\n",
      "Preprocessing Data.\n",
      "BnB Started.\n",
      "Iteration: 1. Number of non-zeros:  1\n",
      "u_t = (0.006976)u_{xx}\n"
     ]
    }
   ],
   "source": [
    "np.random.seed(42)\n",
    "X = 100\n",
    "T = 100\n",
    "c1, x, t = load_data(data_path + 'heat_100.csv', X, T)\n",
    "snr = 1e1\n",
    "noise = np.random.normal(0, np.sqrt(1/snr) * np.std(c1), c1.shape)\n",
    "\n",
    "sols, descr = discover_pde_u(c1 + noise, x, t, 6, 1e-8, 1, 1)\n",
    "\n",
    "for i in range(len(sols)):\n",
    "    print(return_pde(sols[i][\"B\"], descr))"
   ]
  },
  {
   "cell_type": "code",
   "execution_count": 9,
   "metadata": {},
   "outputs": [
    {
     "name": "stdout",
     "output_type": "stream",
     "text": [
      "0.34665877828605196 0.39849081693386224\n",
      "Preprocessing Data.\n",
      "BnB Started.\n",
      "Iteration: 1. Number of non-zeros:  1\n",
      "u_t = (0.006976)u_{xx}\n"
     ]
    }
   ],
   "source": [
    "np.random.seed(42)\n",
    "X = 100\n",
    "T = 100\n",
    "c1, x, t = load_data(data_path + 'heat_100.csv', X, T)\n",
    "snr = 1e1\n",
    "noise = np.random.normal(0.8, np.sqrt(1/snr) * np.std(c1), c1.shape)\n",
    "\n",
    "sols, descr = discover_pde_u(c1 + noise, x, t, 6, 1e-8, 1, 1)\n",
    "\n",
    "for i in range(len(sols)):\n",
    "    print(return_pde(sols[i][\"B\"], descr))"
   ]
  },
  {
   "cell_type": "markdown",
   "metadata": {},
   "source": [
    "50 x 50 grid"
   ]
  },
  {
   "cell_type": "code",
   "execution_count": 21,
   "metadata": {},
   "outputs": [
    {
     "name": "stdout",
     "output_type": "stream",
     "text": [
      "0.3319880997757753 0.40655611261407076\n",
      "Preprocessing Data.\n",
      "BnB Started.\n",
      "Iteration: 1. Number of non-zeros:  1\n",
      "u_t = (0.007491)u_{xx}\n"
     ]
    }
   ],
   "source": [
    "np.random.seed(42)\n",
    "X = 50\n",
    "T = 50\n",
    "c1, x, t = load_data(data_path + 'heat_50.csv', X, T)\n",
    "snr = 1e1\n",
    "noise = np.random.normal(0, np.sqrt(1/snr) * np.std(c1), c1.shape)\n",
    "\n",
    "sols, descr = discover_pde_u(c1 + noise, x, t, 4.1, 1e-8, 1, 1)\n",
    "\n",
    "for i in range(len(sols)):\n",
    "    print(return_pde(sols[i][\"B\"], descr))"
   ]
  },
  {
   "cell_type": "markdown",
   "metadata": {},
   "source": [
    "20 x 20 grid"
   ]
  },
  {
   "cell_type": "code",
   "execution_count": 22,
   "metadata": {},
   "outputs": [
    {
     "name": "stdout",
     "output_type": "stream",
     "text": [
      "0.3438936891879742 0.41625537942151203\n",
      "Preprocessing Data.\n",
      "BnB Started.\n",
      "Iteration: 1. Number of non-zeros:  1\n",
      "u_t = (0.007496)u_{xx}\n"
     ]
    }
   ],
   "source": [
    "np.random.seed(42)\n",
    "X = 20\n",
    "T = 20\n",
    "c1, x, t = load_data(data_path + 'heat_20.csv', X, T)\n",
    "snr = 1e1\n",
    "noise = np.random.normal(0, np.sqrt(1/snr) * np.std(c1), c1.shape)\n",
    "\n",
    "sols, descr = discover_pde_u(c1 + noise, x, t, 1.56, 1e-8, 1, 1)\n",
    "\n",
    "for i in range(len(sols)):\n",
    "    print(return_pde(sols[i][\"B\"], descr))"
   ]
  },
  {
   "cell_type": "markdown",
   "metadata": {},
   "source": [
    "# u_{t} = 0.075 * u_{xx} (SNR = 0.5)"
   ]
  },
  {
   "cell_type": "markdown",
   "metadata": {},
   "source": [
    "200 x 200 grid"
   ]
  },
  {
   "cell_type": "code",
   "execution_count": 23,
   "metadata": {},
   "outputs": [
    {
     "name": "stdout",
     "output_type": "stream",
     "text": [
      "0.3138710085853756 0.653778295639995\n",
      "Preprocessing Data.\n",
      "BnB Started.\n",
      "Iteration: 1. Number of non-zeros:  1\n",
      "u_t = (0.006299)u_{xx}\n"
     ]
    }
   ],
   "source": [
    "np.random.seed(42)\n",
    "X = 200\n",
    "T = 200\n",
    "c1, x, t = load_data(data_path + 'heat_200.csv', X, T)\n",
    "snr = 5e-1\n",
    "noise = np.random.normal(0, np.sqrt(1/snr) * np.std(c1), c1.shape)\n",
    "\n",
    "sols, descr = discover_pde_u(c1 + noise, x, t, 18, 1e-8, 1, 1)\n",
    "\n",
    "for i in range(len(sols)):\n",
    "    print(return_pde(sols[i][\"B\"], descr))"
   ]
  },
  {
   "cell_type": "markdown",
   "metadata": {},
   "source": [
    "100 x 100 grid"
   ]
  },
  {
   "cell_type": "code",
   "execution_count": 96,
   "metadata": {},
   "outputs": [
    {
     "name": "stdout",
     "output_type": "stream",
     "text": [
      "0.3635692339724262 0.6588429619546685\n",
      "Preprocessing Data.\n",
      "BnB Started.\n",
      "Iteration: 1. Number of non-zeros:  1\n",
      "u_t = (0.005074)u_{xx}\n"
     ]
    }
   ],
   "source": [
    "np.random.seed(42)\n",
    "X = 100\n",
    "T = 100\n",
    "c1, x, t = load_data(data_path + 'heat_100.csv', X, T)\n",
    "snr = 5e-1\n",
    "noise = np.random.normal(0, np.sqrt(1/snr) * np.std(c1), c1.shape)\n",
    "\n",
    "sols, descr = discover_pde_u(c1 + noise, x, t, 4, 1e-8, 1, 1)\n",
    "\n",
    "for i in range(len(sols)):\n",
    "    print(return_pde(sols[i][\"B\"], descr))"
   ]
  },
  {
   "cell_type": "markdown",
   "metadata": {},
   "source": [
    "50 x 50 grid"
   ]
  },
  {
   "cell_type": "code",
   "execution_count": 25,
   "metadata": {},
   "outputs": [
    {
     "name": "stdout",
     "output_type": "stream",
     "text": [
      "0.2011709227586983 0.6655908803565398\n",
      "Preprocessing Data.\n",
      "BnB Started.\n",
      "Iteration: 1. Number of non-zeros:  1\n",
      "u_t = (0.006447)u_{xx}\n"
     ]
    }
   ],
   "source": [
    "np.random.seed(42)\n",
    "X = 50\n",
    "T = 50\n",
    "c1, x, t = load_data(data_path + 'heat_50.csv', X, T)\n",
    "snr = 5e-1\n",
    "noise = np.random.normal(0, np.sqrt(1/snr) * np.std(c1), c1.shape)\n",
    "\n",
    "sols, descr = discover_pde_u(c1 + noise, x, t, 9, 1e-8, 1, 1)\n",
    "\n",
    "for i in range(len(sols)):\n",
    "    print(return_pde(sols[i][\"B\"], descr))"
   ]
  },
  {
   "cell_type": "markdown",
   "metadata": {},
   "source": [
    "SNR = 1"
   ]
  },
  {
   "cell_type": "markdown",
   "metadata": {},
   "source": [
    "20 x 20 grid"
   ]
  },
  {
   "cell_type": "markdown",
   "metadata": {},
   "source": [
    "# u_{t} = 0.075 * u_{xx} (SNR = 0.1)"
   ]
  },
  {
   "cell_type": "markdown",
   "metadata": {},
   "source": [
    "200 x 200 grid"
   ]
  },
  {
   "cell_type": "code",
   "execution_count": 26,
   "metadata": {},
   "outputs": [
    {
     "name": "stdout",
     "output_type": "stream",
     "text": [
      "0.3563737679361559 1.2585017224931396\n",
      "Preprocessing Data.\n",
      "BnB Started.\n",
      "Iteration: 1. Number of non-zeros:  1\n",
      "u_t = (0.006392)u_{xx}\n"
     ]
    }
   ],
   "source": [
    "np.random.seed(21)\n",
    "X = 200\n",
    "T = 200\n",
    "c1, x, t = load_data(data_path + 'heat_200.csv', X, T)\n",
    "snr = 1e-1\n",
    "noise = np.random.normal(0, np.sqrt(1/snr) * np.std(c1), c1.shape)\n",
    "\n",
    "sols, descr = discover_pde_u(c1 + noise, x, t, 11, 1e-8, 1, 1)\n",
    "\n",
    "for i in range(len(sols)):\n",
    "    print(return_pde(sols[i][\"B\"], descr))"
   ]
  },
  {
   "cell_type": "markdown",
   "metadata": {},
   "source": [
    "100 x 100 grid"
   ]
  },
  {
   "cell_type": "code",
   "execution_count": 27,
   "metadata": {},
   "outputs": [
    {
     "name": "stdout",
     "output_type": "stream",
     "text": [
      "0.3191442321766232 1.2517963909720402\n",
      "Preprocessing Data.\n",
      "BnB Started.\n",
      "Iteration: 1. Number of non-zeros:  1\n",
      "u_t = (0.007407)u_{xx}\n"
     ]
    }
   ],
   "source": [
    "np.random.seed(21)\n",
    "X = 100\n",
    "T = 100\n",
    "c1, x, t = load_data(data_path + 'heat_100.csv', X, T)\n",
    "snr = 1e-1\n",
    "noise = np.random.normal(0, np.sqrt(1/snr) * np.std(c1), c1.shape)\n",
    "\n",
    "sols, descr = discover_pde_u(c1 + noise, x, t, 6.2, 1e-8, 1, 1)\n",
    "\n",
    "for i in range(len(sols)):\n",
    "    print(return_pde(sols[i][\"B\"], descr))"
   ]
  },
  {
   "cell_type": "markdown",
   "metadata": {},
   "source": [
    "# Defaults"
   ]
  },
  {
   "cell_type": "markdown",
   "metadata": {},
   "source": [
    "# u_{t} = 0.0075 * u_{xx} (No noise)"
   ]
  },
  {
   "cell_type": "markdown",
   "metadata": {},
   "source": [
    "200 x 200 grid"
   ]
  },
  {
   "cell_type": "code",
   "execution_count": 64,
   "metadata": {},
   "outputs": [],
   "source": [
    "X = 200\n",
    "T = 200\n",
    "c1, x, t = load_data(data_path + 'heat_200.csv', X, T)"
   ]
  },
  {
   "cell_type": "code",
   "execution_count": 65,
   "metadata": {},
   "outputs": [
    {
     "name": "stdout",
     "output_type": "stream",
     "text": [
      "0.3669919136597697 0.3764897655529264\n",
      "Preprocessing Data.\n",
      "BnB Started.\n",
      "Iteration: 1. Number of non-zeros:  1\n"
     ]
    }
   ],
   "source": [
    "sols, descr = discover_pde_u(c1, x, t, 6, 1e-2, 1, 1)"
   ]
  },
  {
   "cell_type": "code",
   "execution_count": 66,
   "metadata": {},
   "outputs": [
    {
     "name": "stdout",
     "output_type": "stream",
     "text": [
      "u_t = (0.006959)u_{xx}\n"
     ]
    }
   ],
   "source": [
    "for i in range(len(sols)):\n",
    "    print(return_pde(sols[i][\"B\"], descr))"
   ]
  },
  {
   "cell_type": "markdown",
   "metadata": {},
   "source": [
    "100 x 100 grid"
   ]
  },
  {
   "cell_type": "code",
   "execution_count": 67,
   "metadata": {},
   "outputs": [],
   "source": [
    "X = 100\n",
    "T = 100\n",
    "c1, x, t = load_data(data_path + 'heat_100.csv', X, T)"
   ]
  },
  {
   "cell_type": "code",
   "execution_count": 68,
   "metadata": {},
   "outputs": [
    {
     "name": "stdout",
     "output_type": "stream",
     "text": [
      "0.3472523294440811 0.3803150369112344\n",
      "Preprocessing Data.\n",
      "BnB Started.\n",
      "Iteration: 1. Number of non-zeros:  1\n"
     ]
    }
   ],
   "source": [
    "sols, descr = discover_pde_u(c1, x, t, 6, 1e-2, 1, 1)"
   ]
  },
  {
   "cell_type": "code",
   "execution_count": 69,
   "metadata": {},
   "outputs": [
    {
     "name": "stdout",
     "output_type": "stream",
     "text": [
      "u_t = (0.007097)u_{xx}\n"
     ]
    }
   ],
   "source": [
    "for i in range(len(sols)):\n",
    "    print(return_pde(sols[i][\"B\"], descr))"
   ]
  },
  {
   "cell_type": "markdown",
   "metadata": {},
   "source": [
    "50 x 50 grid"
   ]
  },
  {
   "cell_type": "code",
   "execution_count": 70,
   "metadata": {},
   "outputs": [],
   "source": [
    "X = 50\n",
    "T = 50\n",
    "c1, x, t = load_data(data_path + 'heat_50.csv', X, T)"
   ]
  },
  {
   "cell_type": "code",
   "execution_count": 71,
   "metadata": {},
   "outputs": [
    {
     "name": "stdout",
     "output_type": "stream",
     "text": [
      "0.28215381858015254 0.3874645864530569\n",
      "Preprocessing Data.\n",
      "BnB Started.\n",
      "Iteration: 1. Number of non-zeros:  1\n"
     ]
    }
   ],
   "source": [
    "sols, descr = discover_pde_u(c1, x, t, 6, 1e-2, 1, 1)"
   ]
  },
  {
   "cell_type": "code",
   "execution_count": 72,
   "metadata": {},
   "outputs": [
    {
     "name": "stdout",
     "output_type": "stream",
     "text": [
      "u_t = (0.006981)u_{xx}\n"
     ]
    }
   ],
   "source": [
    "for i in range(len(sols)):\n",
    "    print(return_pde(sols[i][\"B\"], descr))"
   ]
  },
  {
   "cell_type": "markdown",
   "metadata": {},
   "source": [
    "20 x 20 grid"
   ]
  },
  {
   "cell_type": "code",
   "execution_count": 73,
   "metadata": {},
   "outputs": [],
   "source": [
    "X = 20\n",
    "T = 20\n",
    "c1, x, t = load_data(data_path + 'heat_20.csv', X, T)"
   ]
  },
  {
   "cell_type": "code",
   "execution_count": 74,
   "metadata": {},
   "outputs": [
    {
     "name": "stdout",
     "output_type": "stream",
     "text": [
      "0.06353436811855225 0.39298270217625353\n",
      "Preprocessing Data.\n",
      "BnB Started.\n",
      "Iteration: 1. Number of non-zeros:  1\n"
     ]
    }
   ],
   "source": [
    "sols, descr = discover_pde_u(c1, x, t, 6, 1e-2, 1, 1)"
   ]
  },
  {
   "cell_type": "code",
   "execution_count": 75,
   "metadata": {},
   "outputs": [
    {
     "name": "stdout",
     "output_type": "stream",
     "text": [
      "u_t = (0.002605)uu_{xx}\n"
     ]
    }
   ],
   "source": [
    "for i in range(len(sols)):\n",
    "    print(return_pde(sols[i][\"B\"], descr))"
   ]
  },
  {
   "cell_type": "markdown",
   "metadata": {},
   "source": [
    "10 x 10 grid"
   ]
  },
  {
   "cell_type": "code",
   "execution_count": 76,
   "metadata": {},
   "outputs": [],
   "source": [
    "X = 10\n",
    "T = 10\n",
    "c1, x, t = load_data(data_path + 'heat_10.csv', X, T)"
   ]
  },
  {
   "cell_type": "code",
   "execution_count": 77,
   "metadata": {},
   "outputs": [
    {
     "name": "stdout",
     "output_type": "stream",
     "text": [
      "0.0009186542638536536 0.4051864209175821\n",
      "Preprocessing Data.\n",
      "BnB Started.\n",
      "Iteration: 1. Number of non-zeros:  1\n"
     ]
    }
   ],
   "source": [
    "sols, descr = discover_pde_u(c1, x, t, 6, 1e-2, 1, 1)"
   ]
  },
  {
   "cell_type": "code",
   "execution_count": 78,
   "metadata": {},
   "outputs": [
    {
     "name": "stdout",
     "output_type": "stream",
     "text": [
      "u_t = (0.002043)u\n"
     ]
    }
   ],
   "source": [
    "for i in range(len(sols)):\n",
    "    print(return_pde(sols[i][\"B\"], descr))"
   ]
  },
  {
   "cell_type": "markdown",
   "metadata": {},
   "source": [
    "# u_{t} = 0.0075 * u_{xx} (SNR = 10)"
   ]
  },
  {
   "cell_type": "markdown",
   "metadata": {},
   "source": [
    "200 x 200 grid"
   ]
  },
  {
   "cell_type": "code",
   "execution_count": 79,
   "metadata": {},
   "outputs": [
    {
     "name": "stdout",
     "output_type": "stream",
     "text": [
      "0.3677135198084432 0.3954729489928274\n",
      "Preprocessing Data.\n",
      "BnB Started.\n",
      "Iteration: 1. Number of non-zeros:  1\n",
      "u_t = (0.006613)u_{xx}\n"
     ]
    }
   ],
   "source": [
    "np.random.seed(42)\n",
    "X = 200\n",
    "T = 200\n",
    "c1, x, t = load_data(data_path + 'heat_200.csv', X, T)\n",
    "snr = 1e1\n",
    "noise = np.random.normal(0, np.sqrt(1/snr) * np.std(c1), c1.shape)\n",
    "\n",
    "sols, descr = discover_pde_u(c1 + noise, x, t, 6, 1e-2, 1, 1)\n",
    "\n",
    "for i in range(len(sols)):\n",
    "    print(return_pde(sols[i][\"B\"], descr))"
   ]
  },
  {
   "cell_type": "markdown",
   "metadata": {},
   "source": [
    "100 x 100 grid"
   ]
  },
  {
   "cell_type": "code",
   "execution_count": 80,
   "metadata": {},
   "outputs": [
    {
     "name": "stdout",
     "output_type": "stream",
     "text": [
      "0.34665877828605196 0.39849081693386224\n",
      "Preprocessing Data.\n",
      "BnB Started.\n",
      "Iteration: 1. Number of non-zeros:  1\n",
      "u_t = (0.006839)u_{xx}\n"
     ]
    }
   ],
   "source": [
    "np.random.seed(42)\n",
    "X = 100\n",
    "T = 100\n",
    "c1, x, t = load_data(data_path + 'heat_100.csv', X, T)\n",
    "snr = 1e1\n",
    "noise = np.random.normal(0, np.sqrt(1/snr) * np.std(c1), c1.shape)\n",
    "\n",
    "sols, descr = discover_pde_u(c1 + noise, x, t, 6, 1e-2, 1, 1)\n",
    "\n",
    "for i in range(len(sols)):\n",
    "    print(return_pde(sols[i][\"B\"], descr))"
   ]
  },
  {
   "cell_type": "markdown",
   "metadata": {},
   "source": [
    "50 x 50 grid"
   ]
  },
  {
   "cell_type": "code",
   "execution_count": 81,
   "metadata": {},
   "outputs": [
    {
     "name": "stdout",
     "output_type": "stream",
     "text": [
      "0.28314521355187094 0.40655611261407076\n",
      "Preprocessing Data.\n",
      "BnB Started.\n",
      "Iteration: 1. Number of non-zeros:  1\n",
      "u_t = (0.006836)u_{xx}\n"
     ]
    }
   ],
   "source": [
    "np.random.seed(42)\n",
    "X = 50\n",
    "T = 50\n",
    "c1, x, t = load_data(data_path + 'heat_50.csv', X, T)\n",
    "snr = 1e1\n",
    "noise = np.random.normal(0, np.sqrt(1/snr) * np.std(c1), c1.shape)\n",
    "\n",
    "sols, descr = discover_pde_u(c1 + noise, x, t, 6, 1e-2, 1, 1)\n",
    "\n",
    "for i in range(len(sols)):\n",
    "    print(return_pde(sols[i][\"B\"], descr))"
   ]
  },
  {
   "cell_type": "markdown",
   "metadata": {},
   "source": [
    "20 x 20 grid"
   ]
  },
  {
   "cell_type": "code",
   "execution_count": 82,
   "metadata": {},
   "outputs": [
    {
     "name": "stdout",
     "output_type": "stream",
     "text": [
      "0.06503406682834251 0.41625537942151203\n",
      "Preprocessing Data.\n",
      "BnB Started.\n",
      "Iteration: 1. Number of non-zeros:  1\n",
      "u_t = (0.014172)\n"
     ]
    }
   ],
   "source": [
    "np.random.seed(42)\n",
    "X = 20\n",
    "T = 20\n",
    "c1, x, t = load_data(data_path + 'heat_20.csv', X, T)\n",
    "snr = 1e1\n",
    "noise = np.random.normal(0, np.sqrt(1/snr) * np.std(c1), c1.shape)\n",
    "\n",
    "sols, descr = discover_pde_u(c1 + noise, x, t, 6, 1e-2, 1, 1)\n",
    "\n",
    "for i in range(len(sols)):\n",
    "    print(return_pde(sols[i][\"B\"], descr))"
   ]
  },
  {
   "cell_type": "markdown",
   "metadata": {},
   "source": [
    "# u_{t} = 0.075 * u_{xx} (SNR = 0.5)"
   ]
  },
  {
   "cell_type": "markdown",
   "metadata": {},
   "source": [
    "200 x 200 grid"
   ]
  },
  {
   "cell_type": "code",
   "execution_count": 83,
   "metadata": {},
   "outputs": [
    {
     "name": "stdout",
     "output_type": "stream",
     "text": [
      "0.37109628835947833 0.653778295639995\n",
      "Preprocessing Data.\n",
      "BnB Started.\n",
      "Iteration: 1. Number of non-zeros:  1\n",
      "u_t = (0.004064)u_{xx}\n"
     ]
    }
   ],
   "source": [
    "np.random.seed(42)\n",
    "X = 200\n",
    "T = 200\n",
    "c1, x, t = load_data(data_path + 'heat_200.csv', X, T)\n",
    "snr = 5e-1\n",
    "noise = np.random.normal(0, np.sqrt(1/snr) * np.std(c1), c1.shape)\n",
    "\n",
    "sols, descr = discover_pde_u(c1 + noise, x, t, 6, 1e-2, 1, 1)\n",
    "\n",
    "for i in range(len(sols)):\n",
    "    print(return_pde(sols[i][\"B\"], descr))"
   ]
  },
  {
   "cell_type": "markdown",
   "metadata": {},
   "source": [
    "100 x 100 grid"
   ]
  },
  {
   "cell_type": "code",
   "execution_count": 84,
   "metadata": {},
   "outputs": [
    {
     "name": "stdout",
     "output_type": "stream",
     "text": [
      "0.3456200632489446 0.6588429619546685\n",
      "Preprocessing Data.\n",
      "BnB Started.\n",
      "Iteration: 1. Number of non-zeros:  1\n",
      "u_t = (0.003736)uu_{xx}\n"
     ]
    }
   ],
   "source": [
    "np.random.seed(42)\n",
    "X = 100\n",
    "T = 100\n",
    "c1, x, t = load_data(data_path + 'heat_100.csv', X, T)\n",
    "snr = 5e-1\n",
    "noise = np.random.normal(0, np.sqrt(1/snr) * np.std(c1), c1.shape)\n",
    "\n",
    "sols, descr = discover_pde_u(c1 + noise, x, t, 6, 1e-2, 1, 1)\n",
    "\n",
    "for i in range(len(sols)):\n",
    "    print(return_pde(sols[i][\"B\"], descr))"
   ]
  },
  {
   "cell_type": "markdown",
   "metadata": {},
   "source": [
    "50 x 50 grid"
   ]
  },
  {
   "cell_type": "code",
   "execution_count": 85,
   "metadata": {},
   "outputs": [
    {
     "name": "stdout",
     "output_type": "stream",
     "text": [
      "0.28803193463089793 0.6655908803565398\n",
      "Preprocessing Data.\n",
      "BnB Started.\n",
      "Iteration: 1. Number of non-zeros:  1\n",
      "u_t = (0.006235)u_{xx}\n"
     ]
    }
   ],
   "source": [
    "np.random.seed(42)\n",
    "X = 50\n",
    "T = 50\n",
    "c1, x, t = load_data(data_path + 'heat_50.csv', X, T)\n",
    "snr = 5e-1\n",
    "noise = np.random.normal(0, np.sqrt(1/snr) * np.std(c1), c1.shape)\n",
    "\n",
    "sols, descr = discover_pde_u(c1 + noise, x, t, 6, 1e-2, 1, 1)\n",
    "\n",
    "for i in range(len(sols)):\n",
    "    print(return_pde(sols[i][\"B\"], descr))"
   ]
  },
  {
   "cell_type": "markdown",
   "metadata": {},
   "source": [
    "SNR = 1"
   ]
  },
  {
   "cell_type": "markdown",
   "metadata": {},
   "source": [
    "20 x 20 grid"
   ]
  },
  {
   "cell_type": "markdown",
   "metadata": {},
   "source": [
    "# u_{t} = 0.075 * u_{xx} (SNR = 0.1)"
   ]
  },
  {
   "cell_type": "markdown",
   "metadata": {},
   "source": [
    "200 x 200 grid"
   ]
  },
  {
   "cell_type": "code",
   "execution_count": 86,
   "metadata": {},
   "outputs": [
    {
     "name": "stdout",
     "output_type": "stream",
     "text": [
      "0.3786730743164096 1.2585017224931396\n",
      "Preprocessing Data.\n",
      "BnB Started.\n",
      "Iteration: 1. Number of non-zeros:  1\n",
      "u_t = (0.002528)u_{xx}\n"
     ]
    }
   ],
   "source": [
    "np.random.seed(21)\n",
    "X = 200\n",
    "T = 200\n",
    "c1, x, t = load_data(data_path + 'heat_200.csv', X, T)\n",
    "snr = 1e-1\n",
    "noise = np.random.normal(0, np.sqrt(1/snr) * np.std(c1), c1.shape)\n",
    "\n",
    "sols, descr = discover_pde_u(c1 + noise, x, t, 6, 1e-2, 1, 1)\n",
    "\n",
    "for i in range(len(sols)):\n",
    "    print(return_pde(sols[i][\"B\"], descr))"
   ]
  },
  {
   "cell_type": "markdown",
   "metadata": {},
   "source": [
    "100 x 100 grid"
   ]
  },
  {
   "cell_type": "code",
   "execution_count": 87,
   "metadata": {},
   "outputs": [
    {
     "name": "stdout",
     "output_type": "stream",
     "text": [
      "0.3211360553843047 1.2517963909720402\n",
      "Preprocessing Data.\n",
      "BnB Started.\n",
      "Iteration: 1. Number of non-zeros:  1\n",
      "u_t = (0.006859)u_{xx}\n"
     ]
    }
   ],
   "source": [
    "np.random.seed(21)\n",
    "X = 100\n",
    "T = 100\n",
    "c1, x, t = load_data(data_path + 'heat_100.csv', X, T)\n",
    "snr = 1e-1\n",
    "noise = np.random.normal(0, np.sqrt(1/snr) * np.std(c1), c1.shape)\n",
    "\n",
    "sols, descr = discover_pde_u(c1 + noise, x, t, 6, 1e-2, 1, 1)\n",
    "\n",
    "for i in range(len(sols)):\n",
    "    print(return_pde(sols[i][\"B\"], descr))"
   ]
  }
 ],
 "metadata": {
  "kernelspec": {
   "display_name": "Python 3",
   "language": "python",
   "name": "python3"
  },
  "language_info": {
   "codemirror_mode": {
    "name": "ipython",
    "version": 3
   },
   "file_extension": ".py",
   "mimetype": "text/x-python",
   "name": "python",
   "nbconvert_exporter": "python",
   "pygments_lexer": "ipython3",
   "version": "3.8.5"
  }
 },
 "nbformat": 4,
 "nbformat_minor": 4
}
